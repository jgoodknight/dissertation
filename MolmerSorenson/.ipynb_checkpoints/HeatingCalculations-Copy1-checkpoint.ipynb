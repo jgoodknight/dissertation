{
 "cells": [
  {
   "cell_type": "markdown",
   "metadata": {},
   "source": [
    "# Imports and Simulation Parameters"
   ]
  },
  {
   "cell_type": "code",
   "execution_count": 1,
   "metadata": {
    "collapsed": false
   },
   "outputs": [
    {
     "name": "stderr",
     "output_type": "stream",
     "text": [
      "/Users/joseph/anaconda/lib/python2.7/site-packages/matplotlib/font_manager.py:273: UserWarning: Matplotlib is building the font cache using fc-list. This may take a moment.\n",
      "  warnings.warn('Matplotlib is building the font cache using fc-list. This may take a moment.')\n"
     ]
    }
   ],
   "source": [
    "import numpy as np\n",
    "import math\n",
    "import cmath\n",
    "import scipy \n",
    "import scipy.integrate\n",
    "import sys\n",
    "\n",
    "import matplotlib\n",
    "import matplotlib.pyplot as plt\n",
    "%matplotlib inline  \n",
    "\n",
    "hbar = 1.0 / (2.0 * np.pi)\n",
    "\n",
    "ZERO_TOLERANCE = 10**-6"
   ]
  },
  {
   "cell_type": "code",
   "execution_count": 46,
   "metadata": {
    "collapsed": true
   },
   "outputs": [],
   "source": [
    "MAX_VIBRATIONAL_STATES = 200\n",
    "\n",
    "STARTING_GROUND_STATES = 9\n",
    "STARTING_EXCITED_STATES = 9\n",
    "\n",
    "\n",
    "time_scale_set = 100  #will divide the highest energy to give us the time step\n",
    "low_frequency_cycles = 50.0 #will multiply the frequency of the lowest frequency mode to get the max time"
   ]
  },
  {
   "cell_type": "code",
   "execution_count": 3,
   "metadata": {
    "collapsed": true
   },
   "outputs": [],
   "source": [
    "#See if a factorial_Storage dictionary exists already and if not, create one\n",
    "try:\n",
    "    a = factorial_storage\n",
    "except:\n",
    "    factorial_storage = {}"
   ]
  },
  {
   "cell_type": "markdown",
   "metadata": {},
   "source": [
    "# Defining Parameters of the System"
   ]
  },
  {
   "cell_type": "code",
   "execution_count": 4,
   "metadata": {
    "collapsed": false
   },
   "outputs": [],
   "source": [
    "energy_g = 0\n",
    "energy_gamma = .1\n",
    "\n",
    "energy_e = 5\n",
    "energy_epsilon = .31\n",
    "\n",
    "\n",
    "Huang_Rhys_Parameter = .80\n",
    "S = Huang_Rhys_Parameter\n",
    "\n",
    "#bookkeeping\n",
    "overlap_storage = {}\n",
    "electronic_energy_gap = energy_e + .5*energy_epsilon - (energy_g  + .5 * energy_gamma)\n",
    "min_energy = energy_g + energy_gamma * .5\n"
   ]
  },
  {
   "cell_type": "code",
   "execution_count": 5,
   "metadata": {
    "collapsed": true
   },
   "outputs": [],
   "source": [
    "mu_0 = 1.0"
   ]
  },
  {
   "cell_type": "markdown",
   "metadata": {},
   "source": [
    "If we set the central frequency of a pulse at the 0->0 transition, and we decide we care about the ratio of the 0->1 transition to the 0->0 transition and set that to be $\\tau$ then the desired pulse width will be\n",
    "\\begin{align}\n",
    "    \\sigma &= \\sqrt{-\\frac{2 \\ln (\\tau)}{\\omega_{\\epsilon}^2}}\n",
    "\\end{align}"
   ]
  },
  {
   "cell_type": "code",
   "execution_count": 6,
   "metadata": {
    "collapsed": false
   },
   "outputs": [],
   "source": [
    "def blank_wavefunction(number_ground_states, number_excited_states):\n",
    "    return np.zeros((number_ground_states + number_excited_states))\n",
    "\n",
    "def perturbing_function(time):\n",
    "#     stdev = 30000.0 * dt #very specific to 0->0 transition!\n",
    "    stdev = 3000.0 * dt #clearly has a small amount of amplitude on 0->1 transition\n",
    "    center = 6 * stdev\n",
    "    return np.cos(electronic_energy_gap*(time - center) / hbar)*np.exp( - (time - center)**2 / (2 * stdev**2)) / stdev\n",
    "\n",
    "def time_function_handle_from_tau(tau_proportion):\n",
    "    stdev = np.sqrt( -2.0 * np.log(tau_proportion) / (energy_epsilon/hbar)**2)\n",
    "    center = 6 * stdev\n",
    "    return center, stdev, lambda t: np.cos(electronic_energy_gap*(t - center) / hbar)*np.exp( - (t - center)**2 / (2 * stdev**2)) / stdev\n",
    "\n",
    "\n",
    "def perturbing_function_define_tau(time, tau_proportion):\n",
    "    center, stdev, f = time_function_handle_from_tau(tau_proportion)\n",
    "    return f(time)"
   ]
  },
  {
   "cell_type": "code",
   "execution_count": null,
   "metadata": {
    "collapsed": false
   },
   "outputs": [],
   "source": []
  },
  {
   "cell_type": "markdown",
   "metadata": {},
   "source": []
  },
  {
   "cell_type": "code",
   "execution_count": null,
   "metadata": {
    "collapsed": true
   },
   "outputs": [],
   "source": []
  },
  {
   "cell_type": "markdown",
   "metadata": {},
   "source": [
    "# Defining Useful functions"
   ]
  },
  {
   "cell_type": "markdown",
   "metadata": {},
   "source": [
    "$ O_{m}^{n} = \\left(-1\\right)^{n} \\sqrt{\\frac{e^{-S}S^{m+n}}{m!n!}} \\sum_{j=0}^{\\min \\left( m,n \\right)} \\frac{m!n!}{j!(m-j)!(n-j)!}(-1)^j S^{-j} $"
   ]
  },
  {
   "cell_type": "code",
   "execution_count": 7,
   "metadata": {
    "collapsed": false
   },
   "outputs": [],
   "source": [
    "def factorial(i):\n",
    "    if i in factorial_storage:\n",
    "        return factorial_storage[i]\n",
    "    if i <= 1:\n",
    "        return 1.0\n",
    "    else:\n",
    "        out =  factorial(i - 1) * i\n",
    "        factorial_storage[i] = out\n",
    "        return out\n",
    "\n",
    "def ndarray_factorial(i_array):\n",
    "    return np.array([factorial(i) for i in i_array])    "
   ]
  },
  {
   "cell_type": "code",
   "execution_count": 8,
   "metadata": {
    "collapsed": true
   },
   "outputs": [],
   "source": [
    "def overlap_function(ground_quantum_number, excited_quantum_number):\n",
    "    m = ground_quantum_number\n",
    "    n = excited_quantum_number\n",
    "    if (m,n) in overlap_storage:\n",
    "        return overlap_storage[(m,n)]\n",
    "    output = (-1)**n\n",
    "    output *= math.sqrt(math.exp(-S) * S**(m + n) /(factorial(m) * factorial(n)) )\n",
    "    j_indeces = np.array(range(0, min(m,n) + 1))\n",
    "    j_summation = factorial(m) * factorial(n) * np.power(-1.0, j_indeces) * np.power(S, -j_indeces) \n",
    "    j_summation = j_summation / (ndarray_factorial(j_indeces) * ndarray_factorial( m - j_indeces) * ndarray_factorial(n - j_indeces) )\n",
    "    output *= np.sum(j_summation)\n",
    "    overlap_storage[(m,n)] = output\n",
    "    return output  "
   ]
  },
  {
   "cell_type": "markdown",
   "metadata": {},
   "source": [
    "# Solving the Differential Equation"
   ]
  },
  {
   "cell_type": "markdown",
   "metadata": {},
   "source": [
    "\\begin{align*}\n",
    "\t\\left(\\frac{d G_a(t)}{dt} + \\frac{i}{\\hbar}\\Omega_{(a)}\\right) &=-E(t)\\frac{i}{\\hbar}  \\sum_{b} E_b(t) \\mu_{a}^{b}\\\\\n",
    "\t\\left(\\frac{d E_b(t)}{dt} + \\frac{i}{\\hbar} \\Omega^{(b)} \\right) &=-E(t)\\frac{i}{\\hbar} \\sum_{a} G_a(t) \\mu_{a}^{b}\n",
    "\\end{align*}\n",
    "Or in a more compact form:\n",
    "\\begin{align*}\n",
    "\t\\frac{d}{dt}\\begin{bmatrix}\n",
    "\t\tG_a(t) \\\\\n",
    "\t\tE_b(t)\n",
    "\t\\end{bmatrix}\n",
    "\t= -\\frac{i}{\\hbar}\n",
    "\t\\begin{bmatrix}\n",
    "\t\t\\Omega_{(a)} & E(t) \\mu_{a}^{b} \\\\\n",
    "\t\tE(t) \\mu_{a}^{b} & \\Omega^{b}\n",
    "\t\\end{bmatrix}\n",
    "\t\\cdot\n",
    "\t\\begin{bmatrix}\n",
    "\t\tG_a(t) \\\\\n",
    "\t\tE_b(t)\n",
    "\t\\end{bmatrix}\n",
    "\\end{align*}"
   ]
  },
  {
   "cell_type": "code",
   "execution_count": 9,
   "metadata": {
    "collapsed": true
   },
   "outputs": [],
   "source": [
    "def ode_diagonal_matrix(number_ground_states, number_excited_states):\n",
    "    #Define the Matrix on the RHS of the above equation\n",
    "    ODE_DIAGONAL_MATRIX = np.zeros((number_ground_states + number_excited_states, number_ground_states + number_excited_states), dtype=np.complex)\n",
    "    #set the diagonals\n",
    "    for ground_i in range(number_ground_states):\n",
    "        ODE_DIAGONAL_MATRIX[ground_i, ground_i] = -1.0j * (energy_g + energy_gamma * (ground_i + .5)) / hbar\n",
    "\n",
    "    for excited_i in range(number_excited_states):\n",
    "        excited_index = excited_i + number_ground_states #the offset since the excited states comes later\n",
    "        ODE_DIAGONAL_MATRIX[excited_index, excited_index] = -1.0j * (energy_e + energy_epsilon * (excited_i + .5)) / hbar\n",
    "    \n",
    "    return ODE_DIAGONAL_MATRIX\n",
    "\n",
    "#now for the off-diagonals\n",
    "def mu_matrix(c, number_ground_states, number_excited_states):\n",
    "    MU_MATRIX = np.zeros((number_ground_states, number_excited_states), dtype = np.complex)\n",
    "    for ground_a in range(number_ground_states):\n",
    "        for excited_b in range(number_excited_states):\n",
    "            new_mu_entry = overlap_function(ground_a, excited_b)\n",
    "            if ground_a >0:\n",
    "                new_mu_entry += c * math.sqrt(ground_a) * overlap_function(ground_a - 1, excited_b)\n",
    "            \n",
    "            new_mu_entry += c * math.sqrt(ground_a+1) * overlap_function(ground_a + 1, excited_b)\n",
    "                \n",
    "            MU_MATRIX[ground_a, excited_b] = new_mu_entry\n",
    "    return MU_MATRIX\n",
    "\n",
    "def ode_off_diagonal_matrix(c_value, number_ground_states, number_excited_states):\n",
    "    output  = np.zeros((number_ground_states + number_excited_states, number_ground_states + number_excited_states), dtype=np.complex)\n",
    "    MU_MATRIX = mu_matrix(c_value, number_ground_states, number_excited_states)\n",
    "    output[0:number_ground_states, number_ground_states:] = -1.0j * mu_0 * MU_MATRIX  / hbar\n",
    "    output[number_ground_states:, 0:number_ground_states] = -1.0j * mu_0 * MU_MATRIX.T  / hbar\n",
    "    return output\n",
    "\n",
    "def IR_transition_dipoles(number_ground_states, number_excited_states):\n",
    "    \"outputs matrices to calculate ground and excited state IR emission spectra.  Can be combined for total\"\n",
    "    output_g = np.zeros((number_ground_states + number_excited_states, number_ground_states + number_excited_states), dtype=np.complex)\n",
    "    output_e = np.zeros((number_ground_states + number_excited_states, number_ground_states + number_excited_states), dtype=np.complex)\n",
    "    \n",
    "    for ground_a in range(number_ground_states):\n",
    "        try:\n",
    "            output_g[ground_a, ground_a + 1] = math.sqrt(ground_a + 1)\n",
    "            output_g[ground_a + 1, ground_a] = math.sqrt(ground_a + 1)\n",
    "        except:\n",
    "            pass\n",
    "        \n",
    "        try:\n",
    "            output_g[ground_a, ground_a - 1] = math.sqrt(ground_a)\n",
    "            output_g[ground_a - 1, ground_a] = math.sqrt(ground_a)\n",
    "        except:\n",
    "            pass\n",
    "    \n",
    "    for excited_a in range(number_excited_states):\n",
    "        matrix_index_e = number_ground_states + excited_a -1 #because of how 'number_ground_states' is defined\n",
    "        try:\n",
    "            output_e[matrix_index_e, matrix_index_e + 1] = math.sqrt(excited_a + 1)\n",
    "            output_e[matrix_index_e + 1, matrix_index_e] = math.sqrt(excited_a + 1)\n",
    "        except:\n",
    "            pass\n",
    "        \n",
    "        try:\n",
    "            output_e[matrix_index_e, matrix_index_e - 1] = math.sqrt(excited_a)\n",
    "            output_e[matrix_index_e - 1, matrix_index_e] = math.sqrt(excited_a)\n",
    "        except:\n",
    "            pass\n",
    "    \n",
    "    return output_g, output_e"
   ]
  },
  {
   "cell_type": "markdown",
   "metadata": {},
   "source": [
    "\\begin{align*}\n",
    "\t\\mu(x) &= \\mu_0 \\left(1 + \\lambda x \\right) \\\\\n",
    "\t&= \\mu_0 \\left(1 + c\\left(a + a^{\\dagger} \\right) \\right) \\\\\n",
    "\t\\mu_{a}^{b} &= \\mu_0\\left(O_{a}^{b}  + c\\left(\\sqrt{a}O_{a-1}^{b} + \\sqrt{a+1}O_{a+1}^{b}\\right) \\right)\n",
    "\\end{align*}"
   ]
  },
  {
   "cell_type": "code",
   "execution_count": null,
   "metadata": {
    "collapsed": true
   },
   "outputs": [],
   "source": []
  },
  {
   "cell_type": "code",
   "execution_count": 10,
   "metadata": {
    "collapsed": false
   },
   "outputs": [],
   "source": [
    "class VibrationalStateOverFlowException(Exception):\n",
    "    def __init__(self):\n",
    "        pass"
   ]
  },
  {
   "cell_type": "code",
   "execution_count": null,
   "metadata": {
    "collapsed": false
   },
   "outputs": [],
   "source": []
  },
  {
   "cell_type": "code",
   "execution_count": 11,
   "metadata": {
    "collapsed": false
   },
   "outputs": [],
   "source": [
    "def propagate_amplitude_to_end_of_perturbation(c_value, ratio_01_00, starting_ground_states=STARTING_GROUND_STATES, starting_excited_states=STARTING_EXCITED_STATES):\n",
    "    center_time, stdev, time_function = time_function_handle_from_tau(ratio_01_00)\n",
    "    ending_time = center_time + 8.0 * stdev\n",
    "    \n",
    "    number_ground_states = starting_ground_states\n",
    "    number_excited_states = starting_excited_states\n",
    "    \n",
    "    while number_excited_states + number_ground_states < MAX_VIBRATIONAL_STATES:\n",
    "        \n",
    "        #define time scales\n",
    "        max_energy = energy_e + energy_epsilon * (.5 + number_excited_states)\n",
    "        dt = 1.0 / (time_scale_set *  max_energy)\n",
    "        \n",
    "        ODE_DIAGONAL = ode_diagonal_matrix(number_ground_states, number_excited_states) \n",
    "        ODE_OFF_DIAGONAL = ode_off_diagonal_matrix(c_value, number_ground_states, number_excited_states)\n",
    "        \n",
    "        def ODE_integrable_function(time, coefficient_vector):\n",
    "            ODE_TOTAL_MATRIX = ODE_OFF_DIAGONAL * time_function(time) + ODE_DIAGONAL \n",
    "            return np.dot(ODE_TOTAL_MATRIX, coefficient_vector)\n",
    "        \n",
    "        #define the starting wavefuntion\n",
    "        initial_conditions = blank_wavefunction(number_ground_states, number_excited_states)\n",
    "        initial_conditions[0] = 1\n",
    "        \n",
    "        #create ode solver\n",
    "        current_time = 0.0\n",
    "        ode_solver = scipy.integrate.complex_ode(ODE_integrable_function)\n",
    "        ode_solver.set_initial_value(initial_conditions, current_time)\n",
    "        \n",
    "        #Run it\n",
    "        results = []\n",
    "        try:  #this block catches an overflow into the highest ground or excited vibrational state\n",
    "            while current_time < ending_time:\n",
    "#                 print(current_time, ZERO_TOLERANCE)\n",
    "                #update time, perform solution\n",
    "                current_time = ode_solver.t+dt\n",
    "                new_result = ode_solver.integrate(current_time)\n",
    "                results.append(new_result)\n",
    "                #make sure solver was successful\n",
    "                if not ode_solver.successful():\n",
    "                    raise Exception(\"ODE Solve Failed!\")\n",
    "                #make sure that there hasn't been substantial leakage to the highest excited states\n",
    "                re_start_calculation = False\n",
    "                if abs(new_result[number_ground_states - 1])**2 >= ZERO_TOLERANCE:\n",
    "                    number_ground_states +=1\n",
    "                    print(\"Increasing Number of Ground vibrational states to %i \" % number_ground_states)\n",
    "                    re_start_calculation = True\n",
    "                if abs(new_result[-1])**2 >= ZERO_TOLERANCE:\n",
    "                    number_excited_states +=1\n",
    "                    print(\"Increasing Number of excited vibrational states to %i \" % number_excited_states)\n",
    "                    re_start_calculation = True\n",
    "                if re_start_calculation:\n",
    "                    raise VibrationalStateOverFlowException()\n",
    "        except VibrationalStateOverFlowException:\n",
    "            #Move on and re-start the calculation\n",
    "            continue\n",
    "\n",
    "        #Finish calculating\n",
    "        results = np.array(results)\n",
    "        return results, number_ground_states, number_excited_states\n",
    "    raise Exception(\"NEEDED TOO MANY VIBRATIONAL STATES!  RE-RUN WITH DIFFERENT PARAMETERS!\")"
   ]
  },
  {
   "cell_type": "code",
   "execution_count": 12,
   "metadata": {
    "collapsed": false
   },
   "outputs": [],
   "source": [
    "def get_average_quantum_number_time_series(c_value, ratio_01_00, starting_ground_states=STARTING_GROUND_STATES, starting_excited_states=STARTING_EXCITED_STATES):\n",
    "    results, number_ground_states, number_excited_states = propagate_amplitude_to_end_of_perturbation(c_value, ratio_01_00, starting_ground_states, starting_excited_states)\n",
    "    probabilities = np.abs(results)**2\n",
    "    #calculate the average_vibrational_quantum_number series\n",
    "    average_ground_quantum_number = probabilities[:,0:number_ground_states].dot(np.array(range(number_ground_states)) )\n",
    "    average_excited_quantum_number = probabilities[:,number_ground_states:].dot(np.array(range(number_excited_states)))\n",
    "    return average_ground_quantum_number, average_excited_quantum_number, results, number_ground_states, number_excited_states"
   ]
  },
  {
   "cell_type": "code",
   "execution_count": 41,
   "metadata": {
    "collapsed": false
   },
   "outputs": [
    {
     "data": {
      "text/plain": [
       "20.0"
      ]
     },
     "execution_count": 41,
     "metadata": {},
     "output_type": "execute_result"
    }
   ],
   "source": [
    "def IR_emission_spectrum_after_excitation(c_value, ratio_01_00, starting_ground_states=STARTING_GROUND_STATES, starting_excited_states=STARTING_EXCITED_STATES):\n",
    "    center_time, stdev, time_function = time_function_handle_from_tau(ratio_01_00)\n",
    "    \n",
    "    perturbation_ending_time = center_time + 8.0 * stdev\n",
    "    simulation_ending_time = perturbation_ending_time + low_frequency_cycles * hbar/min_energy\n",
    "    \n",
    "    number_ground_states = starting_ground_states\n",
    "    number_excited_states = starting_excited_states\n",
    "    \n",
    "    while number_excited_states + number_ground_states < MAX_VIBRATIONAL_STATES:\n",
    "        \n",
    "        ir_transDipole_g, ir_transDipole_e = IR_transition_dipoles(number_ground_states, number_excited_states)\n",
    "        \n",
    "        time_emission_g = [0]\n",
    "        time_emission_e = [0]\n",
    "        \n",
    "        #define time scales\n",
    "        max_energy = energy_e + energy_epsilon * (.5 + number_excited_states)\n",
    "        dt = 1.0 / (time_scale_set *  max_energy)\n",
    "        \n",
    "        time_values = np.arange(0, simulation_ending_time, dt)\n",
    "        \n",
    "        \n",
    "        ODE_DIAGONAL = ode_diagonal_matrix(number_ground_states, number_excited_states) \n",
    "        ODE_OFF_DIAGONAL = ode_off_diagonal_matrix(c_value, number_ground_states, number_excited_states)\n",
    "        \n",
    "        def ODE_integrable_function(time, coefficient_vector):\n",
    "            ODE_TOTAL_MATRIX = ODE_OFF_DIAGONAL * time_function(time) + ODE_DIAGONAL \n",
    "            return np.dot(ODE_TOTAL_MATRIX, coefficient_vector)\n",
    "        \n",
    "        #define the starting wavefuntion\n",
    "        initial_conditions = blank_wavefunction(number_ground_states, number_excited_states)\n",
    "        initial_conditions[0] = 1\n",
    "        \n",
    "        #create ode solver\n",
    "        current_time = 0.0\n",
    "        ode_solver = scipy.integrate.complex_ode(ODE_integrable_function)\n",
    "        ode_solver.set_initial_value(initial_conditions, current_time)\n",
    "        \n",
    "        #Run it\n",
    "        results = []\n",
    "        try:  #this block catches an overflow into the highest ground or excited vibrational state\n",
    "            while current_time < simulation_ending_time:\n",
    "#                 print(current_time, ZERO_TOLERANCE)\n",
    "                #update time, perform solution\n",
    "                current_time = ode_solver.t+dt\n",
    "                new_result = ode_solver.integrate(current_time)\n",
    "                results.append(new_result)\n",
    "                #make sure solver was successful\n",
    "                if not ode_solver.successful():\n",
    "                    raise Exception(\"ODE Solve Failed!\")\n",
    "                \n",
    "                if current_time < perturbation_ending_time:\n",
    "                    #make sure that there hasn't been substantial leakage to the highest excited states\n",
    "                    re_start_calculation = False\n",
    "                    if abs(new_result[number_ground_states - 1])**2 >= ZERO_TOLERANCE:\n",
    "                        number_ground_states +=1\n",
    "                        print(\"Increasing Number of Ground vibrational states to %i \" % number_ground_states)\n",
    "                        re_start_calculation = True\n",
    "                    if abs(new_result[-1])**2 >= ZERO_TOLERANCE:\n",
    "                        number_excited_states +=1\n",
    "                        print(\"Increasing Number of excited vibrational states to %i \" % number_excited_states)\n",
    "                        re_start_calculation = True\n",
    "                    if re_start_calculation:\n",
    "                        raise VibrationalStateOverFlowException()\n",
    "                #calculate IR emission\n",
    "                time_emission_g.append(np.conj(new_result).T.dot(ir_transDipole_g.dot(new_result)))\n",
    "                time_emission_e.append(np.conj(new_result).T.dot(ir_transDipole_e.dot(new_result)))\n",
    "                #on to next time value...\n",
    "                \n",
    "        except VibrationalStateOverFlowException:\n",
    "            #Move on and re-start the calculation\n",
    "            continue\n",
    "\n",
    "        #Finish calculating\n",
    "        results = np.array(results)\n",
    "        time_emission_g = dt * np.array(time_emission_g)\n",
    "        time_emission_e = dt * np.array(time_emission_e)\n",
    "        \n",
    "        frequencies = np.fft.fftshift(np.fft.fftfreq(time_emission_g.shape[0], d= dt))\n",
    "        frequency_emission_g = np.fft.fftshift(np.fft.fft(time_emission_g))\n",
    "        frequency_emission_e = np.fft.fftshift(np.fft.fft(time_emission_e))\n",
    "        \n",
    "        return results, frequencies, frequency_emission_g, frequency_emission_e, number_ground_states, number_excited_states\n",
    "    raise Exception(\"NEEDED TOO MANY VIBRATIONAL STATES!  RE-RUN WITH DIFFERENT PARAMETERS!\")\n",
    "\n",
    "low_frequency_cycles"
   ]
  },
  {
   "cell_type": "code",
   "execution_count": 36,
   "metadata": {
    "collapsed": false
   },
   "outputs": [
    {
     "name": "stdout",
     "output_type": "stream",
     "text": [
      "Calculating c=0.010000, tau=0.096900 at n_g = 9 and n_e=9...Increasing Number of Ground vibrational states to 10 \n",
      "Calculating c=0.010000, tau=0.800000 at n_g = 81 and n_e=65..."
     ]
    },
    {
     "ename": "KeyboardInterrupt",
     "evalue": "",
     "output_type": "error",
     "traceback": [
      "\u001b[0;31m---------------------------------------------------------------------------\u001b[0m",
      "\u001b[0;31mKeyboardInterrupt\u001b[0m                         Traceback (most recent call last)",
      "\u001b[0;32m<ipython-input-36-12e77a16c3ea>\u001b[0m in \u001b[0;36m<module>\u001b[0;34m()\u001b[0m\n\u001b[1;32m     45\u001b[0m                                                                                      \u001b[0mtau\u001b[0m\u001b[0;34m,\u001b[0m\u001b[0;34m\u001b[0m\u001b[0m\n\u001b[1;32m     46\u001b[0m                                                                                      \u001b[0mstarting_ground_states\u001b[0m \u001b[0;34m=\u001b[0m \u001b[0mn_g\u001b[0m\u001b[0;34m,\u001b[0m\u001b[0;34m\u001b[0m\u001b[0m\n\u001b[0;32m---> 47\u001b[0;31m                                                                                      starting_excited_states = n_e)\n\u001b[0m\u001b[1;32m     48\u001b[0m         \u001b[0mdict_cTau_mapsTo_NgNe\u001b[0m\u001b[0;34m[\u001b[0m\u001b[0;34m(\u001b[0m\u001b[0mc\u001b[0m\u001b[0;34m,\u001b[0m \u001b[0mtau\u001b[0m\u001b[0;34m)\u001b[0m\u001b[0;34m]\u001b[0m \u001b[0;34m=\u001b[0m \u001b[0;34m(\u001b[0m\u001b[0mnum_g\u001b[0m\u001b[0;34m,\u001b[0m \u001b[0mnum_e\u001b[0m\u001b[0;34m)\u001b[0m\u001b[0;34m\u001b[0m\u001b[0m\n\u001b[1;32m     49\u001b[0m \u001b[0;34m\u001b[0m\u001b[0m\n",
      "\u001b[0;32m<ipython-input-12-88202f1c4f98>\u001b[0m in \u001b[0;36mget_average_quantum_number_time_series\u001b[0;34m(c_value, ratio_01_00, starting_ground_states, starting_excited_states)\u001b[0m\n\u001b[1;32m      1\u001b[0m \u001b[0;32mdef\u001b[0m \u001b[0mget_average_quantum_number_time_series\u001b[0m\u001b[0;34m(\u001b[0m\u001b[0mc_value\u001b[0m\u001b[0;34m,\u001b[0m \u001b[0mratio_01_00\u001b[0m\u001b[0;34m,\u001b[0m \u001b[0mstarting_ground_states\u001b[0m\u001b[0;34m=\u001b[0m\u001b[0mSTARTING_GROUND_STATES\u001b[0m\u001b[0;34m,\u001b[0m \u001b[0mstarting_excited_states\u001b[0m\u001b[0;34m=\u001b[0m\u001b[0mSTARTING_EXCITED_STATES\u001b[0m\u001b[0;34m)\u001b[0m\u001b[0;34m:\u001b[0m\u001b[0;34m\u001b[0m\u001b[0m\n\u001b[0;32m----> 2\u001b[0;31m     \u001b[0mresults\u001b[0m\u001b[0;34m,\u001b[0m \u001b[0mnumber_ground_states\u001b[0m\u001b[0;34m,\u001b[0m \u001b[0mnumber_excited_states\u001b[0m \u001b[0;34m=\u001b[0m \u001b[0mpropagate_amplitude_to_end_of_perturbation\u001b[0m\u001b[0;34m(\u001b[0m\u001b[0mc_value\u001b[0m\u001b[0;34m,\u001b[0m \u001b[0mratio_01_00\u001b[0m\u001b[0;34m,\u001b[0m \u001b[0mstarting_ground_states\u001b[0m\u001b[0;34m,\u001b[0m \u001b[0mstarting_excited_states\u001b[0m\u001b[0;34m)\u001b[0m\u001b[0;34m\u001b[0m\u001b[0m\n\u001b[0m\u001b[1;32m      3\u001b[0m     \u001b[0mprobabilities\u001b[0m \u001b[0;34m=\u001b[0m \u001b[0mnp\u001b[0m\u001b[0;34m.\u001b[0m\u001b[0mabs\u001b[0m\u001b[0;34m(\u001b[0m\u001b[0mresults\u001b[0m\u001b[0;34m)\u001b[0m\u001b[0;34m**\u001b[0m\u001b[0;36m2\u001b[0m\u001b[0;34m\u001b[0m\u001b[0m\n\u001b[1;32m      4\u001b[0m     \u001b[0;31m#calculate the average_vibrational_quantum_number series\u001b[0m\u001b[0;34m\u001b[0m\u001b[0;34m\u001b[0m\u001b[0m\n\u001b[1;32m      5\u001b[0m     \u001b[0maverage_ground_quantum_number\u001b[0m \u001b[0;34m=\u001b[0m \u001b[0mprobabilities\u001b[0m\u001b[0;34m[\u001b[0m\u001b[0;34m:\u001b[0m\u001b[0;34m,\u001b[0m\u001b[0;36m0\u001b[0m\u001b[0;34m:\u001b[0m\u001b[0mnumber_ground_states\u001b[0m\u001b[0;34m]\u001b[0m\u001b[0;34m.\u001b[0m\u001b[0mdot\u001b[0m\u001b[0;34m(\u001b[0m\u001b[0mnp\u001b[0m\u001b[0;34m.\u001b[0m\u001b[0marray\u001b[0m\u001b[0;34m(\u001b[0m\u001b[0mrange\u001b[0m\u001b[0;34m(\u001b[0m\u001b[0mnumber_ground_states\u001b[0m\u001b[0;34m)\u001b[0m\u001b[0;34m)\u001b[0m \u001b[0;34m)\u001b[0m\u001b[0;34m\u001b[0m\u001b[0m\n",
      "\u001b[0;32m<ipython-input-11-32017b72877b>\u001b[0m in \u001b[0;36mpropagate_amplitude_to_end_of_perturbation\u001b[0;34m(c_value, ratio_01_00, starting_ground_states, starting_excited_states)\u001b[0m\n\u001b[1;32m     34\u001b[0m \u001b[0;31m#                 print(current_time, ZERO_TOLERANCE)\u001b[0m\u001b[0;34m\u001b[0m\u001b[0;34m\u001b[0m\u001b[0m\n\u001b[1;32m     35\u001b[0m                 \u001b[0;31m#update time, perform solution\u001b[0m\u001b[0;34m\u001b[0m\u001b[0;34m\u001b[0m\u001b[0m\n\u001b[0;32m---> 36\u001b[0;31m                 \u001b[0mcurrent_time\u001b[0m \u001b[0;34m=\u001b[0m \u001b[0mode_solver\u001b[0m\u001b[0;34m.\u001b[0m\u001b[0mt\u001b[0m\u001b[0;34m+\u001b[0m\u001b[0mdt\u001b[0m\u001b[0;34m\u001b[0m\u001b[0m\n\u001b[0m\u001b[1;32m     37\u001b[0m                 \u001b[0mnew_result\u001b[0m \u001b[0;34m=\u001b[0m \u001b[0mode_solver\u001b[0m\u001b[0;34m.\u001b[0m\u001b[0mintegrate\u001b[0m\u001b[0;34m(\u001b[0m\u001b[0mcurrent_time\u001b[0m\u001b[0;34m)\u001b[0m\u001b[0;34m\u001b[0m\u001b[0m\n\u001b[1;32m     38\u001b[0m                 \u001b[0mresults\u001b[0m\u001b[0;34m.\u001b[0m\u001b[0mappend\u001b[0m\u001b[0;34m(\u001b[0m\u001b[0mnew_result\u001b[0m\u001b[0;34m)\u001b[0m\u001b[0;34m\u001b[0m\u001b[0m\n",
      "\u001b[0;31mKeyboardInterrupt\u001b[0m: "
     ]
    }
   ],
   "source": [
    "c_values = np.logspace(-2, np.log10(.8), 21)\n",
    "tau_values = np.logspace(-3, np.log10(.8), 20)\n",
    "\n",
    "heating_results_ground = np.zeros((c_values.shape[0], tau_values.shape[0]))\n",
    "heating_results_excited = np.zeros((c_values.shape[0], tau_values.shape[0]))\n",
    "\n",
    "n_g = STARTING_GROUND_STATES\n",
    "n_e = STARTING_EXCITED_STATES\n",
    "\n",
    "try:\n",
    "    a = dict_cTau_mapsTo_NgNe\n",
    "except:\n",
    "    dict_cTau_mapsTo_NgNe = {}\n",
    "\n",
    "for i_c, c in enumerate(c_values):\n",
    "    # as we increase in both tau and \n",
    "    for i_tau, tau in enumerate(tau_values):\n",
    "        if (c, tau) not in dict_cTau_mapsTo_NgNe:\n",
    "            #make a good guess for the new needed number of simulated states\n",
    "            try:\n",
    "                last_c = c_values[i_c - 1]\n",
    "            except:\n",
    "                last_c = None\n",
    "            try:\n",
    "                last_tau = tau_values[i_tau - 1]\n",
    "            except:\n",
    "                last_tau = None\n",
    "\n",
    "            if last_tau is not None and (c, last_tau) in dict_cTau_mapsTo_NgNe:\n",
    "                n_g_candidate1, n_e_candidate1 = dict_cTau_mapsTo_NgNe[(c, last_tau)] \n",
    "            else:\n",
    "                n_g_candidate1, n_e_candidate1 = n_g, n_e\n",
    "            if last_c is not None and (last_c, tau) in dict_cTau_mapsTo_NgNe:\n",
    "                n_g_candidate2, n_e_candidate2 = dict_cTau_mapsTo_NgNe[(last_c, tau)] \n",
    "            else:\n",
    "                n_g_candidate2, n_e_candidate2 = n_g, n_e\n",
    "\n",
    "            n_g = max([n_g_candidate1, n_g_candidate2])\n",
    "            n_e = max([n_e_candidate1, n_e_candidate2])\n",
    "        else:\n",
    "            n_g, n_e = dict_cTau_mapsTo_NgNe[(c, tau)]\n",
    "        sys.stdout.flush()\n",
    "        sys.stdout.write(\"\\rCalculating c=%f, tau=%f at n_g = %i and n_e=%i...\" %(c, tau, n_g, n_e))\n",
    "        n_bar_g, n_bar_e, results, num_g, num_e = get_average_quantum_number_time_series(c,\n",
    "                                                                                     tau, \n",
    "                                                                                     starting_ground_states = n_g, \n",
    "                                                                                     starting_excited_states = n_e)\n",
    "        dict_cTau_mapsTo_NgNe[(c, tau)] = (num_g, num_e)\n",
    "        \n",
    "        heating_results_ground[i_c, i_tau] = n_bar_g[-1]\n",
    "        heating_results_excited[i_c, i_tau] = n_bar_e[-1]\n",
    "        \n",
    "        n_g = num_g\n",
    "        n_e = num_e\n"
   ]
  },
  {
   "cell_type": "code",
   "execution_count": 35,
   "metadata": {
    "collapsed": false
   },
   "outputs": [
    {
     "data": {
      "text/plain": [
       "(81, 65)"
      ]
     },
     "execution_count": 35,
     "metadata": {},
     "output_type": "execute_result"
    }
   ],
   "source": [
    "n_g, n_e"
   ]
  },
  {
   "cell_type": "code",
   "execution_count": 47,
   "metadata": {
    "collapsed": false,
    "scrolled": true
   },
   "outputs": [
    {
     "name": "stdout",
     "output_type": "stream",
     "text": [
      "Increasing Number of Ground vibrational states to 10 \n"
     ]
    }
   ],
   "source": [
    "junk,a_frequencies, a_frequency_emission_g, a_frequency_emission_e, ng, ne = IR_emission_spectrum_after_excitation(.8, .8, 81, 65)\n",
    "junk,b_frequencies, b_frequency_emission_g, b_frequency_emission_e, ng, ne = IR_emission_spectrum_after_excitation(0.0, .8)\n"
   ]
  },
  {
   "cell_type": "code",
   "execution_count": 50,
   "metadata": {
    "collapsed": false
   },
   "outputs": [
    {
     "data": {
      "image/png": "[encoded data removed]",
      "text/plain": [
       "<matplotlib.figure.Figure at 0x1022dc450>"
      ]
     },
     "metadata": {},
     "output_type": "display_data"
    }
   ],
   "source": [
    "normalizer = max([np.max(np.abs(a_frequency_emission_g)), np.max(np.abs(b_frequency_emission_g)), np.max(np.abs(a_frequency_emission_e)), np.max(np.abs(b_frequency_emission_e))])\n",
    "\n",
    "plt.figure()\n",
    "plt.title(r\"IR Emission for $\\tau=%.3f$\" % (.8))\n",
    "plt.plot(a_frequencies, np.abs(a_frequency_emission_g + a_frequency_emission_e) / normalizer, label=r\"c=0.0\")\n",
    "plt.plot(b_frequencies, np.abs(b_frequency_emission_g + b_frequency_emission_e) / normalizer, label=r\"c=0.8\")\n",
    "plt.xlim(0, .5)\n",
    "plt.xlabel(\"Frequency of Emission\")\n",
    "plt.ylim(0, 1)\n",
    "plt.legend(loc=0)\n",
    "plt.savefig(\"emission_comparison.png\")\n"
   ]
  },
  {
   "cell_type": "code",
   "execution_count": 21,
   "metadata": {
    "collapsed": false
   },
   "outputs": [
    {
     "data": {
      "image/png": "[encoded data removed]",
      "text/plain": [
       "<matplotlib.figure.Figure at 0x111329e10>"
      ]
     },
     "metadata": {},
     "output_type": "display_data"
    },
    {
     "data": {
      "image/png": "[encoded data removed]",
      "text/plain": [
       "<matplotlib.figure.Figure at 0x110eb4950>"
      ]
     },
     "metadata": {},
     "output_type": "display_data"
    }
   ],
   "source": [
    "plt.figure()\n",
    "plt.title(\"Ground State Heating\")\n",
    "plt.contourf(np.log10(tau_values),np.log10(c_values),  heating_results_ground, 100)\n",
    "plt.colorbar()\n",
    "plt.ylabel(r\"$c$ log scale\")\n",
    "plt.xlabel(r\"$\\tau$ log scale\")\n",
    "plt.savefig(\"ground_state_heating.png\")\n",
    "\n",
    "plt.figure()\n",
    "plt.title(\"Excited State Heating\")\n",
    "plt.contourf(np.log10(tau_values),np.log10(c_values),  heating_results_excited, 100)\n",
    "plt.colorbar()\n",
    "plt.ylabel(r\"$c$ log scale\")\n",
    "plt.xlabel(r\"$\\tau$ log scale\")\n",
    "plt.savefig(\"excited_state_heating.png\")"
   ]
  },
  {
   "cell_type": "code",
   "execution_count": 31,
   "metadata": {
    "collapsed": false
   },
   "outputs": [
    {
     "name": "stdout",
     "output_type": "stream",
     "text": [
      "Increasing Number of excited vibrational states to 10 \n",
      "Increasing Number of Ground vibrational states to 10 \n",
      "Increasing Number of excited vibrational states to 11 \n",
      "Increasing Number of Ground vibrational states to 11 \n",
      "Increasing Number of Ground vibrational states to 12 \n",
      "Increasing Number of excited vibrational states to 12 \n",
      "Increasing Number of Ground vibrational states to 13 \n",
      "Increasing Number of excited vibrational states to 13 \n",
      "Increasing Number of Ground vibrational states to 14 \n",
      "Increasing Number of Ground vibrational states to 15 \n",
      "Increasing Number of Ground vibrational states to 16 \n",
      "Increasing Number of excited vibrational states to 14 \n",
      "Increasing Number of excited vibrational states to 15 \n",
      "Increasing Number of Ground vibrational states to 17 \n",
      "Increasing Number of excited vibrational states to 16 \n",
      "Increasing Number of Ground vibrational states to 18 \n",
      "Increasing Number of excited vibrational states to 17 \n",
      "Increasing Number of Ground vibrational states to 19 \n",
      "Increasing Number of excited vibrational states to 18 \n",
      "Increasing Number of Ground vibrational states to 20 \n",
      "Increasing Number of Ground vibrational states to 21 \n",
      "Increasing Number of Ground vibrational states to 22 \n",
      "Increasing Number of excited vibrational states to 19 \n",
      "Increasing Number of excited vibrational states to 20 \n",
      "Increasing Number of Ground vibrational states to 23 \n",
      "Increasing Number of Ground vibrational states to 24 \n",
      "Increasing Number of excited vibrational states to 21 \n",
      "Increasing Number of excited vibrational states to 22 \n",
      "Increasing Number of Ground vibrational states to 25 \n",
      "Increasing Number of Ground vibrational states to 26 \n",
      "Increasing Number of excited vibrational states to 23 \n",
      "Increasing Number of Ground vibrational states to 27 \n",
      "Increasing Number of Ground vibrational states to 28 \n",
      "Increasing Number of Ground vibrational states to 29 \n",
      "Increasing Number of excited vibrational states to 24 \n",
      "Increasing Number of excited vibrational states to 25 \n",
      "Increasing Number of Ground vibrational states to 30 \n",
      "Increasing Number of Ground vibrational states to 31 \n",
      "Increasing Number of excited vibrational states to 26 \n",
      "Increasing Number of excited vibrational states to 27 \n",
      "Increasing Number of Ground vibrational states to 32 \n",
      "Increasing Number of excited vibrational states to 28 \n",
      "Increasing Number of excited vibrational states to 29 \n",
      "Increasing Number of Ground vibrational states to 33 \n",
      "Increasing Number of Ground vibrational states to 34 \n",
      "Increasing Number of excited vibrational states to 30 \n",
      "Increasing Number of Ground vibrational states to 35 \n",
      "Increasing Number of Ground vibrational states to 36 \n",
      "Increasing Number of Ground vibrational states to 37 \n",
      "Increasing Number of Ground vibrational states to 38 \n",
      "Increasing Number of excited vibrational states to 31 \n",
      "Increasing Number of excited vibrational states to 32 \n",
      "Increasing Number of Ground vibrational states to 39 \n",
      "Increasing Number of excited vibrational states to 33 \n",
      "Increasing Number of Ground vibrational states to 40 \n",
      "Increasing Number of excited vibrational states to 34 \n",
      "Increasing Number of excited vibrational states to 35 \n",
      "Increasing Number of Ground vibrational states to 41 \n",
      "Increasing Number of Ground vibrational states to 42 \n",
      "Increasing Number of Ground vibrational states to 43 \n",
      "Increasing Number of excited vibrational states to 36 \n",
      "Increasing Number of excited vibrational states to 37 \n",
      "Increasing Number of Ground vibrational states to 44 \n",
      "Increasing Number of Ground vibrational states to 45 \n",
      "Increasing Number of Ground vibrational states to 46 \n",
      "Increasing Number of excited vibrational states to 38 \n",
      "Increasing Number of excited vibrational states to 39 \n",
      "Increasing Number of Ground vibrational states to 47 \n",
      "Increasing Number of Ground vibrational states to 48 \n",
      "Increasing Number of excited vibrational states to 40 \n",
      "Increasing Number of Ground vibrational states to 49 \n",
      "Increasing Number of excited vibrational states to 41 \n",
      "Increasing Number of Ground vibrational states to 50 \n",
      "Increasing Number of excited vibrational states to 42 \n",
      "Increasing Number of Ground vibrational states to 51 \n",
      "Increasing Number of Ground vibrational states to 52 \n",
      "Increasing Number of excited vibrational states to 43 \n",
      "Increasing Number of excited vibrational states to 44 \n",
      "Increasing Number of Ground vibrational states to 53 \n",
      "Increasing Number of excited vibrational states to 45 \n",
      "Increasing Number of Ground vibrational states to 54 \n",
      "Increasing Number of excited vibrational states to 46 \n",
      "Increasing Number of Ground vibrational states to 55 \n",
      "Increasing Number of Ground vibrational states to 56 \n",
      "Increasing Number of Ground vibrational states to 57 \n",
      "Increasing Number of excited vibrational states to 47 \n",
      "Increasing Number of excited vibrational states to 48 \n",
      "Increasing Number of Ground vibrational states to 58 \n",
      "Increasing Number of excited vibrational states to 49 \n",
      "Increasing Number of Ground vibrational states to 59 \n",
      "Increasing Number of Ground vibrational states to 60 \n",
      "Increasing Number of excited vibrational states to 50 \n",
      "Increasing Number of excited vibrational states to 51 \n",
      "Increasing Number of Ground vibrational states to 61 \n",
      "Increasing Number of Ground vibrational states to 62 \n",
      "Increasing Number of Ground vibrational states to 63 \n",
      "Increasing Number of excited vibrational states to 52 \n",
      "Increasing Number of Ground vibrational states to 64 \n",
      "Increasing Number of excited vibrational states to 53 \n",
      "Increasing Number of excited vibrational states to 54 \n",
      "Increasing Number of Ground vibrational states to 65 \n",
      "Increasing Number of Ground vibrational states to 66 \n",
      "Increasing Number of excited vibrational states to 55 \n",
      "Increasing Number of Ground vibrational states to 67 \n",
      "Increasing Number of excited vibrational states to 56 \n",
      "Increasing Number of Ground vibrational states to 68 \n",
      "Increasing Number of excited vibrational states to 57 \n",
      "Increasing Number of Ground vibrational states to 69 \n",
      "Increasing Number of excited vibrational states to 58 \n",
      "Increasing Number of Ground vibrational states to 70 \n",
      "Increasing Number of Ground vibrational states to 71 \n",
      "Increasing Number of Ground vibrational states to 72 \n",
      "Increasing Number of excited vibrational states to 59 \n",
      "Increasing Number of excited vibrational states to 60 \n",
      "Increasing Number of Ground vibrational states to 73 \n",
      "Increasing Number of Ground vibrational states to 74 \n",
      "Increasing Number of excited vibrational states to 61 \n",
      "Increasing Number of excited vibrational states to 62 \n",
      "Increasing Number of Ground vibrational states to 75 \n",
      "Increasing Number of Ground vibrational states to 76 \n",
      "Increasing Number of Ground vibrational states to 77 \n",
      "Increasing Number of excited vibrational states to 63 \n",
      "Increasing Number of excited vibrational states to 64 \n",
      "Increasing Number of Ground vibrational states to 78 \n",
      "Increasing Number of excited vibrational states to 65 \n",
      "Increasing Number of Ground vibrational states to 79 \n",
      "Increasing Number of Ground vibrational states to 80 \n",
      "Increasing Number of Ground vibrational states to 81 \n"
     ]
    },
    {
     "ename": "ValueError",
     "evalue": "too many values to unpack",
     "output_type": "error",
     "traceback": [
      "\u001b[0;31m---------------------------------------------------------------------------\u001b[0m",
      "\u001b[0;31mValueError\u001b[0m                                Traceback (most recent call last)",
      "\u001b[0;32m<ipython-input-31-c543a06ec153>\u001b[0m in \u001b[0;36m<module>\u001b[0;34m()\u001b[0m\n\u001b[0;32m----> 1\u001b[0;31m \u001b[0mn_bar_g\u001b[0m\u001b[0;34m,\u001b[0m \u001b[0mn_bar_e\u001b[0m\u001b[0;34m,\u001b[0m \u001b[0mresults\u001b[0m\u001b[0;34m,\u001b[0m \u001b[0mnumber_ground_states\u001b[0m \u001b[0;34m=\u001b[0m \u001b[0mget_average_quantum_number_time_series\u001b[0m\u001b[0;34m(\u001b[0m\u001b[0mc\u001b[0m\u001b[0;34m,\u001b[0m \u001b[0mtau\u001b[0m\u001b[0;34m)\u001b[0m\u001b[0;34m\u001b[0m\u001b[0m\n\u001b[0m",
      "\u001b[0;31mValueError\u001b[0m: too many values to unpack"
     ]
    }
   ],
   "source": [
    "n_bar_g, n_bar_e, results, number_ground_states = get_average_quantum_number_time_series(c, tau)"
   ]
  },
  {
   "cell_type": "code",
   "execution_count": 33,
   "metadata": {
    "collapsed": false
   },
   "outputs": [
    {
     "data": {
      "image/png": "[encoded data removed]",
      "text/plain": [
       "<matplotlib.figure.Figure at 0x111a34f10>"
      ]
     },
     "metadata": {},
     "output_type": "display_data"
    }
   ],
   "source": [
    "plt.figure()\n",
    "plt.plot(n_bar_g, label=\"g\")\n",
    "plt.plot(n_bar_e, label=\"e\")\n",
    "plt.legend(loc=0)\n",
    "plt.savefig(\"warming.png\")"
   ]
  },
  {
   "cell_type": "code",
   "execution_count": null,
   "metadata": {
    "collapsed": false
   },
   "outputs": [],
   "source": []
  },
  {
   "cell_type": "code",
   "execution_count": null,
   "metadata": {
    "collapsed": false
   },
   "outputs": [],
   "source": []
  },
  {
   "cell_type": "code",
   "execution_count": null,
   "metadata": {
    "collapsed": true
   },
   "outputs": [],
   "source": []
  },
  {
   "cell_type": "code",
   "execution_count": null,
   "metadata": {
    "collapsed": false
   },
   "outputs": [],
   "source": []
  },
  {
   "cell_type": "code",
   "execution_count": null,
   "metadata": {
    "collapsed": true
   },
   "outputs": [],
   "source": []
  }
 ],
 "metadata": {
  "anaconda-cloud": {},
  "kernelspec": {
   "display_name": "Python [default]",
   "language": "python",
   "name": "python2"
  },
  "language_info": {
   "codemirror_mode": {
    "name": "ipython",
    "version": 2
   },
   "file_extension": ".py",
   "mimetype": "text/x-python",
   "name": "python",
   "nbconvert_exporter": "python",
   "pygments_lexer": "ipython2",
   "version": "2.7.11"
  }
 },
 "nbformat": 4,
 "nbformat_minor": 0
}
