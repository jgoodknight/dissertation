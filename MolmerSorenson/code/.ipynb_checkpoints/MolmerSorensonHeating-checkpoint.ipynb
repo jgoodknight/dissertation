{
 "cells": [
  {
   "cell_type": "markdown",
   "metadata": {},
   "source": [
    "# Imports and Simulation Parameters"
   ]
  },
  {
   "cell_type": "code",
   "execution_count": 21,
   "metadata": {
    "collapsed": false
   },
   "outputs": [],
   "source": [
    "import numpy as np\n",
    "import math\n",
    "import cmath\n",
    "import scipy \n",
    "import scipy.linalg\n",
    "import scipy.integrate\n",
    "import sys\n",
    "import tqdm\n",
    "import warnings\n",
    "import matplotlib\n",
    "import matplotlib.pyplot as plt\n",
    "%matplotlib inline\n",
    "\n"
   ]
  },
  {
   "cell_type": "code",
   "execution_count": 22,
   "metadata": {
    "collapsed": true
   },
   "outputs": [],
   "source": [
    "time_scale_set = 20  #will divide the highest energy to give us the time step\n",
    "vibrational_frequency_cycles = 14000.0 #will multiply the frequency of the lowest frequency mode to get the max time"
   ]
  },
  {
   "cell_type": "code",
   "execution_count": null,
   "metadata": {
    "collapsed": true
   },
   "outputs": [],
   "source": []
  },
  {
   "cell_type": "markdown",
   "metadata": {},
   "source": [
    "# Defining Parameters of the System"
   ]
  },
  {
   "cell_type": "code",
   "execution_count": 23,
   "metadata": {
    "collapsed": false
   },
   "outputs": [],
   "source": [
    "energy_gg = 0\n",
    "energy_eg = 0.0\n",
    "energy_ge = 0.0\n",
    "energy_ee = energy_eg + energy_ge\n",
    "electronic_energies = [energy_gg, energy_ge, energy_eg, energy_ee]\n",
    "\n",
    "energy_vibrational = .1\n",
    "oscillator_mass = 1.0\n",
    "\n",
    "#bookkeeping\n",
    "min_energy = energy_gg + energy_vibrational * .5\n",
    "vibrational_frequency = energy_vibrational / h\n",
    "vibrational_angular_frequency = energy_vibrational / hbar\n",
    "nu = energy_vibrational / hbar\n",
    "one_vibrational_cycle = 1.0 / vibrational_frequency\n",
    "max_time = vibrational_frequency_cycles / nu"
   ]
  },
  {
   "cell_type": "code",
   "execution_count": null,
   "metadata": {
    "collapsed": false
   },
   "outputs": [],
   "source": []
  },
  {
   "cell_type": "code",
   "execution_count": 24,
   "metadata": {
    "collapsed": true
   },
   "outputs": [],
   "source": [
    "mu_0 = 1.0"
   ]
  },
  {
   "cell_type": "markdown",
   "metadata": {},
   "source": [
    "# Vibrational Helper Functions"
   ]
  },
  {
   "cell_type": "code",
   "execution_count": null,
   "metadata": {
    "collapsed": false
   },
   "outputs": [],
   "source": []
  },
  {
   "cell_type": "code",
   "execution_count": 25,
   "metadata": {
    "collapsed": false
   },
   "outputs": [],
   "source": [
    "\n"
   ]
  },
  {
   "cell_type": "code",
   "execution_count": 26,
   "metadata": {
    "collapsed": false
   },
   "outputs": [
    {
     "data": {
      "text/plain": [
       "array([[ 0.99500417+0.j        ,  0.00000000+0.09983342j],\n",
       "       [ 0.00000000+0.09983342j,  0.99500417+0.j        ]])"
      ]
     },
     "execution_count": 26,
     "metadata": {},
     "output_type": "execute_result"
    }
   ],
   "source": [
    "vibrational_subspace_laser_recoil_operator(2, 0.1)"
   ]
  },
  {
   "cell_type": "markdown",
   "metadata": {},
   "source": [
    "# Wavefunction Helper Functions"
   ]
  },
  {
   "cell_type": "code",
   "execution_count": 27,
   "metadata": {
    "collapsed": true
   },
   "outputs": [],
   "source": [
    "\n",
    "        "
   ]
  },
  {
   "cell_type": "code",
   "execution_count": null,
   "metadata": {
    "collapsed": false
   },
   "outputs": [],
   "source": []
  },
  {
   "cell_type": "markdown",
   "metadata": {},
   "source": []
  },
  {
   "cell_type": "markdown",
   "metadata": {},
   "source": [
    "# Full Operator Helper Functions"
   ]
  },
  {
   "cell_type": "code",
   "execution_count": 28,
   "metadata": {
    "collapsed": false
   },
   "outputs": [],
   "source": [
    "\n",
    "    "
   ]
  },
  {
   "cell_type": "code",
   "execution_count": 29,
   "metadata": {
    "collapsed": false
   },
   "outputs": [
    {
     "name": "stdout",
     "output_type": "stream",
     "text": [
      "[[ 0.  0.  0.  0.  0.  0.  0.  0.]\n",
      " [ 0.  0.  0.  0.  0.  0.  0.  0.]\n",
      " [ 0.  0.  0.  0.  0.  0.  0.  0.]\n",
      " [ 0.  0.  0.  0.  0.  0.  0.  0.]\n",
      " [ 0.  0.  0.  0.  0.  0.  0.  0.]\n",
      " [ 0.  0.  0.  0.  0.  0.  0.  0.]\n",
      " [ 0.  0.  0.  0.  0.  0.  0.  0.]\n",
      " [ 0.  0.  0.  0.  0.  0.  0.  0.]]\n"
     ]
    }
   ],
   "source": [
    "# TESTS!\n",
    "n = 2\n",
    "mu_1_up = total_time_independent_transition_dipole_1_excitation(n, 0.0, [1.0])\n",
    "mu_1_down = np.conj(mu_1_up.T)\n",
    "mu_2_up = total_time_independent_transition_dipole_2_excitation(n, 0.0, [1.0])\n",
    "mu_2_down = np.conj(mu_2_up.T)\n",
    "psi = ground_state_wavefunction(n)\n",
    "psi_ee = (mu_1_up + mu_2_up).dot((mu_1_up + mu_2_up)).dot(psi)\n",
    "assert((psi == mu_1_down.dot(mu_1_up.dot(psi))).all())\n",
    "assert((psi == mu_2_down.dot(mu_2_up.dot(psi))).all())\n",
    "\n",
    "op = full_matrix_noTimeDep(n, [0.1,0.1], [1.0, 0.0])\n",
    "op2 = full_matrix_noTimeDep(n, [0.1,0.1], [1.0])\n",
    "print(np.real(op2 - op))\n",
    "# print(np.abs(op.dot(psi)))\n",
    "assert((op == np.conj(op.T)).all())\n",
    "\n"
   ]
  },
  {
   "cell_type": "markdown",
   "metadata": {},
   "source": [
    "# Solving the Differential Equation"
   ]
  },
  {
   "cell_type": "markdown",
   "metadata": {},
   "source": [
    "\\begin{align*}\n",
    "\t\\left(\\frac{d G_a(t)}{dt} + \\frac{i}{\\hbar}\\Omega_{(a)}\\right) &=-E(t)\\frac{i}{\\hbar}  \\sum_{b} E_b(t) \\mu_{a}^{b}\\\\\n",
    "\t\\left(\\frac{d E_b(t)}{dt} + \\frac{i}{\\hbar} \\Omega^{(b)} \\right) &=-E(t)\\frac{i}{\\hbar} \\sum_{a} G_a(t) \\mu_{a}^{b}\n",
    "\\end{align*}\n",
    "Or in a more compact form:\n",
    "\\begin{align*}\n",
    "\t\\frac{d}{dt}\\begin{bmatrix}\n",
    "\t\tG_a(t) \\\\\n",
    "\t\tE_b(t)\n",
    "\t\\end{bmatrix}\n",
    "\t= -\\frac{i}{\\hbar}\n",
    "\t\\begin{bmatrix}\n",
    "\t\t\\Omega_{(a)} & E(t) \\mu_{a}^{b} \\\\\n",
    "\t\tE(t) \\mu_{a}^{b} & \\Omega^{b}\n",
    "\t\\end{bmatrix}\n",
    "\t\\cdot\n",
    "\t\\begin{bmatrix}\n",
    "\t\tG_a(t) \\\\\n",
    "\t\tE_b(t)\n",
    "\t\\end{bmatrix}\n",
    "\\end{align*}"
   ]
  },
  {
   "cell_type": "code",
   "execution_count": 30,
   "metadata": {
    "collapsed": true
   },
   "outputs": [],
   "source": [
    "def ode_diagonal_matrix(number_vibrational_states):\n",
    "    return -1.0j * total_time_independent_hamiltonian(number_vibrational_states) / hbar"
   ]
  },
  {
   "cell_type": "markdown",
   "metadata": {},
   "source": [
    "\\begin{align*}\n",
    "\t\\mu(x) &= \\mu_0 \\left(1 + \\lambda x \\right) \\\\\n",
    "\t&= \\mu_0 \\left(1 + c\\left(a + a^{\\dagger} \\right) \\right) \\\\\n",
    "\t\\mu_{a}^{b} &= \\mu_0\\left(O_{a}^{b}  + c\\left(\\sqrt{a}O_{a-1}^{b} + \\sqrt{a+1}O_{a+1}^{b}\\right) \\right)\n",
    "\\end{align*}"
   ]
  },
  {
   "cell_type": "code",
   "execution_count": null,
   "metadata": {
    "collapsed": true
   },
   "outputs": [],
   "source": []
  },
  {
   "cell_type": "code",
   "execution_count": 31,
   "metadata": {
    "collapsed": false
   },
   "outputs": [],
   "source": [
    "class VibrationalStateOverFlowException(Exception):\n",
    "    def __init__(self):\n",
    "        pass"
   ]
  },
  {
   "cell_type": "code",
   "execution_count": null,
   "metadata": {
    "collapsed": false
   },
   "outputs": [],
   "source": []
  },
  {
   "cell_type": "code",
   "execution_count": 32,
   "metadata": {
    "collapsed": false
   },
   "outputs": [],
   "source": [
    "def propagate(eta_list, \n",
    "              laser_energy_list, \n",
    "              c_coefficient_list,\n",
    "              rabi_energy_list,\n",
    "              number_vibrational_states=STARTING_NUMBER_VIBRATIONAL_STATES, \n",
    "              initial_state_generator= lambda n:ground_state_wavefunction(n),\n",
    "              use_activation_function=True):\n",
    "    \n",
    "    while number_vibrational_states < MAX_VIBRATIONAL_STATES:\n",
    "        \n",
    "        #define time scales\n",
    "        max_energy = energy_ee + energy_vibrational * (.5 + number_vibrational_states - 1)\n",
    "        max_frequency = max_energy / h\n",
    "        dt = 1.0 / (time_scale_set *  max_frequency)\n",
    "        \n",
    "        if use_activation_function:\n",
    "            activation_width = 2.0 * dt\n",
    "            def activation_function(t):\n",
    "                return 1.0/(1.0 + np.exp(-(t/activation_width - 10.0)))\n",
    "        else:\n",
    "            def activation_function(t):\n",
    "                return 1.0\n",
    "        ODE_DIAGONAL = ode_diagonal_matrix(number_vibrational_states) \n",
    "        \n",
    "        MU_1_EXCITATION = total_time_independent_transition_dipole_1_excitation(number_vibrational_states,\n",
    "                                                                                eta_list[0], \n",
    "                                                                                c_coefficient_list)\n",
    "        MU_2_EXCITATION = total_time_independent_transition_dipole_2_excitation(number_vibrational_states,\n",
    "                                                                                eta_list[1], \n",
    "                                                                                c_coefficient_list)\n",
    "        \n",
    "        laser_angular_frequency_1 = laser_energy_list[0] / hbar\n",
    "        laser_angular_frequency_2 = laser_energy_list[1] / hbar\n",
    "        \n",
    "        #this code does not divide by 2 because we do not multiply the pauli matrix by 2\n",
    "        laser_amplitude_1 = rabi_energy_list[0] \n",
    "        laser_amplitude_2 = rabi_energy_list[1]\n",
    "        \n",
    "        def time_function_1_excitation(time):\n",
    "            return laser_amplitude_1*np.exp(-1.0j * laser_angular_frequency_1 * time)\n",
    "        def time_function_2_excitation(time):\n",
    "            return laser_amplitude_2*np.exp(-1.0j * laser_angular_frequency_2 * time)\n",
    "        \n",
    "        def ODE_integrable_function(time, wf_coefficient_vector):\n",
    "            mu_1_perturber_excitation = MU_1_EXCITATION * time_function_1_excitation(time)\n",
    "            mu_2_perturber_excitation = MU_2_EXCITATION * time_function_2_excitation(time)\n",
    "            \n",
    "            mu_1_total = mu_1_perturber_excitation + np.conj(mu_1_perturber_excitation.T)\n",
    "            mu_2_total = mu_2_perturber_excitation + np.conj(mu_2_perturber_excitation.T)\n",
    "            ODE_OFF_DIAGONAL = -1.0j *activation_function(time) * (mu_1_total + mu_2_total) / hbar\n",
    "            ODE_TOTAL_MATRIX = ODE_OFF_DIAGONAL  + ODE_DIAGONAL \n",
    "            return np.dot(ODE_TOTAL_MATRIX, wf_coefficient_vector)\n",
    "        \n",
    "        #define the starting wavefuntion\n",
    "        initial_conditions = initial_state_generator(number_vibrational_states)\n",
    "        \n",
    "        #create ode solver\n",
    "        current_time = 0.0\n",
    "        ode_solver = scipy.integrate.complex_ode(ODE_integrable_function)\n",
    "        ode_solver.set_initial_value(initial_conditions, current_time)\n",
    "        \n",
    "        #Run it\n",
    "        results = [initial_conditions]\n",
    "        n_time = int(math.ceil(max_time / dt))\n",
    "        try:  #this block catches an overflow into the highest ground or excited vibrational state\n",
    "            for time_index in tqdm.tqdm(range(n_time)):\n",
    "                #update time, perform solution\n",
    "                current_time = ode_solver.t+dt\n",
    "                new_result = ode_solver.integrate(current_time)\n",
    "                results.append(new_result)\n",
    "                #make sure solver was successful\n",
    "                if not ode_solver.successful():\n",
    "                    raise Exception(\"ODE Solve Failed!\")\n",
    "                #make sure that there hasn't been substantial leakage to the highest excited states\n",
    "                re_start_calculation = False\n",
    "                \n",
    "                #catch to see if there aren't enough vibrational states before the calculation gets too far along\n",
    "#                 if current_time < 20.0 * one_vibrational_cycle:\n",
    "                if True:\n",
    "                    for electronic_index in range(NUMBER_ELECTRONIC_STATES):\n",
    "                        max_vibrational_amp = access_wavefunction_entry(new_result, \n",
    "                                                                        number_vibrational_states, \n",
    "                                                                        electronic_index,\n",
    "                                                                        number_vibrational_states-1)\n",
    "                        p = np.abs(max_vibrational_amp)**2\n",
    "\n",
    "                        if p >= ZERO_TOLERANCE:\n",
    "                            number_vibrational_states+=1\n",
    "                            print(\"\\nIncreasing Number of vibrational states to %i \" % number_vibrational_states)\n",
    "                            print(\"Time reached:\" + str(current_time))\n",
    "                            print(\"electronic quantum number\" + str(electronic_index))\n",
    "                            raise VibrationalStateOverFlowException()\n",
    "                    \n",
    "        except VibrationalStateOverFlowException:\n",
    "            #Move on and re-start the calculation\n",
    "            continue\n",
    "\n",
    "        #Finish calculating\n",
    "        results = np.array(results), number_vibrational_states, dt\n",
    "        return results\n",
    "    raise Exception(\"NEEDED TOO MANY VIBRATIONAL STATES!  RE-RUN WITH DIFFERENT PARAMETERS!\")"
   ]
  },
  {
   "cell_type": "code",
   "execution_count": null,
   "metadata": {
    "collapsed": false
   },
   "outputs": [],
   "source": []
  },
  {
   "cell_type": "code",
   "execution_count": 33,
   "metadata": {
    "collapsed": false
   },
   "outputs": [],
   "source": [
    "def reduced_electronic_density_matrix(results, number_vibrational_states):\n",
    "    output = np.zeros((results.shape[0], NUMBER_ELECTRONIC_STATES, NUMBER_ELECTRONIC_STATES), dtype=np.complex)\n",
    "    for electronic_index_1 in range(NUMBER_ELECTRONIC_STATES):\n",
    "        for electronic_index_2 in range(NUMBER_ELECTRONIC_STATES):\n",
    "            new_entry = 0.0\n",
    "            for vibrational_index in range(number_vibrational_states):\n",
    "                total_index_1 = number_vibrational_states*electronic_index_1 + vibrational_index\n",
    "                total_index_2 = number_vibrational_states*electronic_index_2 + vibrational_index\n",
    "                new_entry += results[:, total_index_1] * np.conj(results[:, total_index_2])\n",
    "            output[:, electronic_index_1, electronic_index_2] = new_entry\n",
    "    return output\n",
    "\n",
    "def reduced_vibrational_density_matrix(results, number_vibrational_states):\n",
    "    output = np.zeros((results.shape[0], number_vibrational_states, number_vibrational_states), dtype=np.complex)\n",
    "    for vibrational_index_1 in range(number_vibrational_states):\n",
    "        for vibrational_index_2 in range(number_vibrational_states):\n",
    "            new_entry = 0.0\n",
    "            for electronic_index in range(NUMBER_ELECTRONIC_STATES):\n",
    "                total_index_1 = number_vibrational_states*electronic_index + vibrational_index_1\n",
    "                total_index_2 = number_vibrational_states*electronic_index + vibrational_index_2\n",
    "                new_entry += results[:, total_index_1] * np.conj(results[:, total_index_2])\n",
    "            output[:, vibrational_index_1, vibrational_index_2] = new_entry\n",
    "    return output\n",
    "\n",
    "def average_vibrational_quanta(results, number_vibrational_states):\n",
    "    time_output_shape = results.shape[0]\n",
    "    output = np.zeros(time_output_shape, dtype=np.complex)\n",
    "    for electronic_index in range(NUMBER_ELECTRONIC_STATES):\n",
    "        for vibrational_index in range(number_vibrational_states):\n",
    "            total_index = number_vibrational_states*electronic_index + vibrational_index\n",
    "            output += vibrational_index * results[:, total_index] * np.conj(results[:, total_index])\n",
    "    return output\n",
    "\n",
    "def ir_spectrum(results, number_vibrational_states, dt):\n",
    "    operator = IR_transition_dipole(number_vibrational_states)\n",
    "    time_trace = []\n",
    "    for time_index in range(results.shape[0]):\n",
    "        wf = results[time_index]\n",
    "        new_amp = np.conj(wf.T).dot(operator.dot(wf))\n",
    "        time_trace.append(new_amp)\n",
    "    time_trace = np.array(time_trace)\n",
    "    frequency_amplitude = np.fft.fftshift(np.fft.fft(time_trace))\n",
    "    frequency_values = np.fft.fftshift(np.fft.fftfreq(time_trace.shape[0], d = dt))\n",
    "    \n",
    "    return frequency_values, frequency_amplitude\n",
    "    "
   ]
  },
  {
   "cell_type": "code",
   "execution_count": 34,
   "metadata": {
    "collapsed": false
   },
   "outputs": [
    {
     "name": "stderr",
     "output_type": "stream",
     "text": [
      "100%|██████████| 512479/512479 [03:10<00:00, 2696.56it/s]\n"
     ]
    }
   ],
   "source": [
    "barN_equals_2_CSgen = lambda n: coherent_vibrational_state_ground_electronic(n, math.sqrt(2))\n",
    "eta=.1\n",
    "rabi_energy = .10 * energy_vibrational / 2.0\n",
    "laser_detuning_delta_energy = .90 * energy_vibrational \n",
    "laser_energy_1 = electronic_energies[1] + laser_detuning_delta_energy\n",
    "laser_energy_2 = electronic_energies[2] - laser_detuning_delta_energy\n",
    "results,n_vib, dt = propagate(eta_list=[eta,eta], \n",
    "                              laser_energy_list=[laser_energy_1, laser_energy_2], \n",
    "                              c_coefficient_list=[1.0], \n",
    "                              rabi_energy_list=[rabi_energy, rabi_energy],\n",
    "                              initial_state_generator = barN_equals_2_CSgen)\n"
   ]
  },
  {
   "cell_type": "code",
   "execution_count": 35,
   "metadata": {
    "collapsed": true
   },
   "outputs": [],
   "source": [
    "e_red_density_matrix = reduced_electronic_density_matrix(results, n_vib)\n",
    "\n",
    "n_time_points = results.shape[0]\n",
    "time_vibrational_units = np.linspace(0, vibrational_frequency_cycles, n_time_points)\n"
   ]
  },
  {
   "cell_type": "code",
   "execution_count": 36,
   "metadata": {
    "collapsed": false
   },
   "outputs": [
    {
     "data": {
      "text/plain": [
       "<matplotlib.text.Text at 0x103e04cd0>"
      ]
     },
     "execution_count": 36,
     "metadata": {},
     "output_type": "execute_result"
    },
    {
     "data": {
      "image/png": "[encoded data removed]",
      "text/plain": [
       "<matplotlib.figure.Figure at 0x112457a10>"
      ]
     },
     "metadata": {},
     "output_type": "display_data"
    },
    {
     "data": {
      "image/png": "[encoded data removed]",
      "text/plain": [
       "<matplotlib.figure.Figure at 0x112657b10>"
      ]
     },
     "metadata": {},
     "output_type": "display_data"
    }
   ],
   "source": [
    "plt.figure()\n",
    "plt.title(\"Molmer-Sorenson Figure 2\")\n",
    "plt.plot(time_vibrational_units, e_red_density_matrix[:,0,0], label=r\"$\\rho_{gg,gg}$\")\n",
    "plt.plot(time_vibrational_units, np.imag(e_red_density_matrix[:,0,3]), label=r\"$\\Im\\rho_{gg,ee}$\")\n",
    "plt.plot(time_vibrational_units, np.real(e_red_density_matrix[:,0,3]), label=r\"$\\Re\\rho_{gg,ee}$\")\n",
    "plt.plot(time_vibrational_units, e_red_density_matrix[:,3,3], label=r\"$\\rho_{ee,ee}$\")\n",
    "plt.legend(loc=0)\n",
    "plt.ylim(-.5,1.1)\n",
    "plt.savefig(\"MS_fig2.png\")\n",
    "\n",
    "heating_trace = average_vibrational_quanta(results, n_vib)\n",
    "plt.figure()\n",
    "plt.plot(heating_trace)\n",
    "plt.title(\"HEATING TRACE\")\n"
   ]
  },
  {
   "cell_type": "code",
   "execution_count": 41,
   "metadata": {
    "collapsed": false
   },
   "outputs": [
    {
     "name": "stderr",
     "output_type": "stream",
     "text": [
      "100%|██████████| 512479/512479 [03:12<00:00, 2657.41it/s]\n"
     ]
    }
   ],
   "source": [
    "barN_equals_2_CSgen = lambda n: coherent_vibrational_state_ground_electronic(n, math.sqrt(2))\n",
    "eta=.1\n",
    "rabi_energy = .10 * energy_vibrational / 2.0\n",
    "laser_detuning_delta_energy = .90 * energy_vibrational \n",
    "laser_energy_1 = electronic_energies[1] + laser_detuning_delta_energy\n",
    "laser_energy_2 = electronic_energies[2] - laser_detuning_delta_energy\n",
    "\n",
    "c_2 = .001\n",
    "c_0 = 1 - c_2\n",
    "results_nc,n_vib, dt = propagate(eta_list=[eta,eta], \n",
    "                              laser_energy_list=[laser_energy_1, laser_energy_2], \n",
    "                              c_coefficient_list=[c_0, 0.0, c_2], \n",
    "                              rabi_energy_list=[rabi_energy, rabi_energy],\n",
    "                              initial_state_generator = barN_equals_2_CSgen)\n"
   ]
  },
  {
   "cell_type": "code",
   "execution_count": 42,
   "metadata": {
    "collapsed": true
   },
   "outputs": [],
   "source": [
    "e_red_density_matrix_nc = reduced_electronic_density_matrix(results_nc, n_vib)\n",
    "heating_trace_nc = average_vibrational_quanta(results_nc, n_vib)\n",
    "\n",
    "n_time_points_nc = results_nc.shape[0]\n",
    "time_vibrational_units_nc = np.linspace(0, vibrational_frequency_cycles, n_time_points_nc)"
   ]
  },
  {
   "cell_type": "code",
   "execution_count": 43,
   "metadata": {
    "collapsed": false
   },
   "outputs": [
    {
     "data": {
      "text/plain": [
       "<matplotlib.text.Text at 0x113ed37d0>"
      ]
     },
     "execution_count": 43,
     "metadata": {},
     "output_type": "execute_result"
    },
    {
     "data": {
      "image/png": "[encoded data removed]",
      "text/plain": [
       "<matplotlib.figure.Figure at 0x112460ed0>"
      ]
     },
     "metadata": {},
     "output_type": "display_data"
    },
    {
     "data": {
      "image/png": "[encoded data removed]",
      "text/plain": [
       "<matplotlib.figure.Figure at 0x1534f97d0>"
      ]
     },
     "metadata": {},
     "output_type": "display_data"
    }
   ],
   "source": [
    "plt.figure()\n",
    "plt.title(r\"Molmer-Sorenson Figure 2, with $c^{(1)}=0$ and $c^{(2)}=.01$\")\n",
    "plt.plot(time_vibrational_units_nc, e_red_density_matrix_nc[:,0,0], label=r\"$\\rho_{gg,gg}$\")\n",
    "plt.plot(time_vibrational_units_nc, np.imag(e_red_density_matrix_nc[:,0,3]), label=r\"$\\Im\\rho_{gg,ee}$\")\n",
    "plt.plot(time_vibrational_units_nc, np.real(e_red_density_matrix_nc[:,0,3]), label=r\"$\\Re\\rho_{gg,ee}$\")\n",
    "plt.plot(time_vibrational_units_nc, e_red_density_matrix_nc[:,3,3], label=r\"$\\rho_{ee,ee}$\")\n",
    "plt.legend(loc=0)\n",
    "plt.ylim(-.5,1.1)\n",
    "\n",
    "plt.savefig(\"MS_fig2_c2.png\")\n",
    "\n",
    "plt.figure()\n",
    "plt.plot(heating_trace_nc)\n",
    "plt.title(\"HEATING TRACE\")\n"
   ]
  },
  {
   "cell_type": "code",
   "execution_count": 40,
   "metadata": {
    "collapsed": false
   },
   "outputs": [],
   "source": [
    "\n",
    "\n",
    "\n"
   ]
  },
  {
   "cell_type": "code",
   "execution_count": null,
   "metadata": {
    "collapsed": false
   },
   "outputs": [],
   "source": []
  },
  {
   "cell_type": "code",
   "execution_count": null,
   "metadata": {
    "collapsed": false
   },
   "outputs": [],
   "source": []
  },
  {
   "cell_type": "code",
   "execution_count": null,
   "metadata": {
    "collapsed": false
   },
   "outputs": [],
   "source": [
    "\n"
   ]
  },
  {
   "cell_type": "code",
   "execution_count": null,
   "metadata": {
    "collapsed": false
   },
   "outputs": [],
   "source": []
  },
  {
   "cell_type": "code",
   "execution_count": null,
   "metadata": {
    "collapsed": false
   },
   "outputs": [],
   "source": [
    "\n"
   ]
  },
  {
   "cell_type": "code",
   "execution_count": null,
   "metadata": {
    "collapsed": false,
    "scrolled": true
   },
   "outputs": [],
   "source": []
  },
  {
   "cell_type": "code",
   "execution_count": null,
   "metadata": {
    "collapsed": false
   },
   "outputs": [],
   "source": [
    "\n"
   ]
  },
  {
   "cell_type": "code",
   "execution_count": null,
   "metadata": {
    "collapsed": false
   },
   "outputs": [],
   "source": []
  },
  {
   "cell_type": "code",
   "execution_count": null,
   "metadata": {
    "collapsed": false
   },
   "outputs": [],
   "source": []
  },
  {
   "cell_type": "code",
   "execution_count": null,
   "metadata": {
    "collapsed": false
   },
   "outputs": [],
   "source": []
  },
  {
   "cell_type": "code",
   "execution_count": null,
   "metadata": {
    "collapsed": false
   },
   "outputs": [],
   "source": []
  },
  {
   "cell_type": "code",
   "execution_count": null,
   "metadata": {
    "collapsed": false
   },
   "outputs": [],
   "source": []
  },
  {
   "cell_type": "code",
   "execution_count": null,
   "metadata": {
    "collapsed": true
   },
   "outputs": [],
   "source": []
  },
  {
   "cell_type": "code",
   "execution_count": null,
   "metadata": {
    "collapsed": false
   },
   "outputs": [],
   "source": []
  },
  {
   "cell_type": "code",
   "execution_count": null,
   "metadata": {
    "collapsed": true
   },
   "outputs": [],
   "source": []
  }
 ],
 "metadata": {
  "anaconda-cloud": {},
  "kernelspec": {
   "display_name": "Python [default]",
   "language": "python",
   "name": "python2"
  },
  "language_info": {
   "codemirror_mode": {
    "name": "ipython",
    "version": 2
   },
   "file_extension": ".py",
   "mimetype": "text/x-python",
   "name": "python",
   "nbconvert_exporter": "python",
   "pygments_lexer": "ipython2",
   "version": "2.7.11"
  }
 },
 "nbformat": 4,
 "nbformat_minor": 0
}
