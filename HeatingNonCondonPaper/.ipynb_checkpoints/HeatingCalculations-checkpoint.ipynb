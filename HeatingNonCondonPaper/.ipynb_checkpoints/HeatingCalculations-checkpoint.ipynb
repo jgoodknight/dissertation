{
 "cells": [
  {
   "cell_type": "markdown",
   "metadata": {},
   "source": [
    "# Imports and Simulation Parameters"
   ]
  },
  {
   "cell_type": "code",
   "execution_count": 1,
   "metadata": {
    "collapsed": false
   },
   "outputs": [
    {
     "name": "stderr",
     "output_type": "stream",
     "text": [
      "/Users/joseph/anaconda/lib/python2.7/site-packages/matplotlib/font_manager.py:273: UserWarning: Matplotlib is building the font cache using fc-list. This may take a moment.\n",
      "  warnings.warn('Matplotlib is building the font cache using fc-list. This may take a moment.')\n"
     ]
    }
   ],
   "source": [
    "import numpy as np\n",
    "import math\n",
    "import cmath\n",
    "import scipy \n",
    "import scipy.integrate\n",
    "import sys\n",
    "\n",
    "import matplotlib\n",
    "import matplotlib.pyplot as plt\n",
    "%matplotlib inline  \n",
    "\n",
    "hbar = 1.0 / (2.0 * np.pi)\n",
    "\n",
    "ZERO_TOLERANCE = 10**-6"
   ]
  },
  {
   "cell_type": "code",
   "execution_count": 2,
   "metadata": {
    "collapsed": true
   },
   "outputs": [],
   "source": [
    "MAX_VIBRATIONAL_STATES = 200\n",
    "\n",
    "STARTING_GROUND_STATES = 5\n",
    "STARTING_EXCITED_STATES = 5\n",
    "\n",
    "\n",
    "time_scale_set = 10  #will divide the highest energy to give us the time step\n",
    "low_frequency_cycles = 25.0 #will multiply the frequency of the lowest frequency mode to get the max time"
   ]
  },
  {
   "cell_type": "code",
   "execution_count": 3,
   "metadata": {
    "collapsed": true
   },
   "outputs": [],
   "source": [
    "#See if a factorial_Storage dictionary exists already and if not, create one\n",
    "try:\n",
    "    a = factorial_storage\n",
    "except:\n",
    "    factorial_storage = {}"
   ]
  },
  {
   "cell_type": "markdown",
   "metadata": {},
   "source": [
    "# Defining Parameters of the System"
   ]
  },
  {
   "cell_type": "code",
   "execution_count": 4,
   "metadata": {
    "collapsed": false
   },
   "outputs": [],
   "source": [
    "energy_g = 0\n",
    "energy_gamma = .1\n",
    "\n",
    "energy_e = 0\n",
    "energy_epsilon = .31\n",
    "\n",
    "\n",
    "Huang_Rhys_Parameter = .80\n",
    "S = Huang_Rhys_Parameter\n",
    "\n",
    "#bookkeeping\n",
    "overlap_storage = {}\n",
    "electronic_energy_gap = energy_e + .5*energy_epsilon - (energy_g  + .5 * energy_gamma)\n",
    "min_energy = energy_g + energy_gamma * .5\n"
   ]
  },
  {
   "cell_type": "code",
   "execution_count": 5,
   "metadata": {
    "collapsed": true
   },
   "outputs": [],
   "source": [
    "mu_0 = 1.0"
   ]
  },
  {
   "cell_type": "markdown",
   "metadata": {},
   "source": [
    "If we set the central frequency of a pulse at the 0->0 transition, and we decide we care about the ratio of the 0->1 transition to the 0->0 transition and set that to be $\\tau$ then the desired pulse width will be\n",
    "\\begin{align}\n",
    "    \\sigma &= \\sqrt{-\\frac{2 \\ln (\\tau)}{\\omega_{\\epsilon}^2}}\n",
    "\\end{align}"
   ]
  },
  {
   "cell_type": "code",
   "execution_count": 6,
   "metadata": {
    "collapsed": false
   },
   "outputs": [],
   "source": [
    "def blank_wavefunction(number_ground_states, number_excited_states):\n",
    "    return np.zeros((number_ground_states + number_excited_states))\n",
    "\n",
    "def perturbing_function(time):\n",
    "#     stdev = 30000.0 * dt #very specific to 0->0 transition!\n",
    "    stdev = 3000.0 * dt #clearly has a small amount of amplitude on 0->1 transition\n",
    "    center = 6 * stdev\n",
    "    return np.cos(electronic_energy_gap*(time - center) / hbar)*np.exp( - (time - center)**2 / (2 * stdev**2)) / stdev\n",
    "\n",
    "def time_function_handle_from_tau(tau_proportion):\n",
    "    stdev = np.sqrt( -2.0 * np.log(tau_proportion) / (energy_epsilon/hbar)**2)\n",
    "    center = 6 * stdev\n",
    "    return center, stdev, lambda t: np.cos(electronic_energy_gap*(t - center) / hbar)*np.exp( - (t - center)**2 / (2 * stdev**2)) / stdev\n",
    "\n",
    "\n",
    "def time_function_handle_from_tau_and_kappa(tau_proportion, kappa_proportion):\n",
    "    stdev = np.sqrt( -2.0 * np.log(tau_proportion) / (energy_epsilon/hbar)**2)\n",
    "    center = 6 * stdev\n",
    "    return center, stdev, lambda t: kappa_proportion * energy_gamma * np.cos(electronic_energy_gap*(t - center) / hbar)*np.exp( - (t - center)**2 / (2 * stdev**2)) / stdev\n",
    "\n",
    "\n",
    "def perturbing_function_define_tau(time, tau_proportion):\n",
    "    center, stdev, f = time_function_handle_from_tau(tau_proportion)\n",
    "    return f(time)"
   ]
  },
  {
   "cell_type": "code",
   "execution_count": null,
   "metadata": {
    "collapsed": false
   },
   "outputs": [],
   "source": []
  },
  {
   "cell_type": "markdown",
   "metadata": {},
   "source": []
  },
  {
   "cell_type": "code",
   "execution_count": null,
   "metadata": {
    "collapsed": true
   },
   "outputs": [],
   "source": []
  },
  {
   "cell_type": "markdown",
   "metadata": {},
   "source": [
    "# Defining Useful functions"
   ]
  },
  {
   "cell_type": "markdown",
   "metadata": {},
   "source": [
    "$ O_{m}^{n} = \\left(-1\\right)^{n} \\sqrt{\\frac{e^{-S}S^{m+n}}{m!n!}} \\sum_{j=0}^{\\min \\left( m,n \\right)} \\frac{m!n!}{j!(m-j)!(n-j)!}(-1)^j S^{-j} $"
   ]
  },
  {
   "cell_type": "code",
   "execution_count": 7,
   "metadata": {
    "collapsed": false
   },
   "outputs": [],
   "source": [
    "def factorial(i):\n",
    "    if i in factorial_storage:\n",
    "        return factorial_storage[i]\n",
    "    if i <= 1:\n",
    "        return 1.0\n",
    "    else:\n",
    "        out =  factorial(i - 1) * i\n",
    "        factorial_storage[i] = out\n",
    "        return out\n",
    "\n",
    "def ndarray_factorial(i_array):\n",
    "    return np.array([factorial(i) for i in i_array])    "
   ]
  },
  {
   "cell_type": "code",
   "execution_count": 8,
   "metadata": {
    "collapsed": true
   },
   "outputs": [],
   "source": [
    "def overlap_function(ground_quantum_number, excited_quantum_number):\n",
    "    m = ground_quantum_number\n",
    "    n = excited_quantum_number\n",
    "    if (m,n) in overlap_storage:\n",
    "        return overlap_storage[(m,n)]\n",
    "    output = (-1)**n\n",
    "    output *= math.sqrt(math.exp(-S) * S**(m + n) /(factorial(m) * factorial(n)) )\n",
    "    j_indeces = np.array(range(0, min(m,n) + 1))\n",
    "    j_summation = factorial(m) * factorial(n) * np.power(-1.0, j_indeces) * np.power(S, -j_indeces) \n",
    "    j_summation = j_summation / (ndarray_factorial(j_indeces) * ndarray_factorial( m - j_indeces) * ndarray_factorial(n - j_indeces) )\n",
    "    output *= np.sum(j_summation)\n",
    "    overlap_storage[(m,n)] = output\n",
    "    return output  "
   ]
  },
  {
   "cell_type": "markdown",
   "metadata": {},
   "source": [
    "# Solving the Differential Equation"
   ]
  },
  {
   "cell_type": "markdown",
   "metadata": {},
   "source": [
    "\\begin{align*}\n",
    "\t\\left(\\frac{d G_a(t)}{dt} + \\frac{i}{\\hbar}\\Omega_{(a)}\\right) &=-E(t)\\frac{i}{\\hbar}  \\sum_{b} E_b(t) \\mu_{a}^{b}\\\\\n",
    "\t\\left(\\frac{d E_b(t)}{dt} + \\frac{i}{\\hbar} \\Omega^{(b)} \\right) &=-E(t)\\frac{i}{\\hbar} \\sum_{a} G_a(t) \\mu_{a}^{b}\n",
    "\\end{align*}\n",
    "Or in a more compact form:\n",
    "\\begin{align*}\n",
    "\t\\frac{d}{dt}\\begin{bmatrix}\n",
    "\t\tG_a(t) \\\\\n",
    "\t\tE_b(t)\n",
    "\t\\end{bmatrix}\n",
    "\t= -\\frac{i}{\\hbar}\n",
    "\t\\begin{bmatrix}\n",
    "\t\t\\Omega_{(a)} & E(t) \\mu_{a}^{b} \\\\\n",
    "\t\tE(t) \\mu_{a}^{b} & \\Omega^{b}\n",
    "\t\\end{bmatrix}\n",
    "\t\\cdot\n",
    "\t\\begin{bmatrix}\n",
    "\t\tG_a(t) \\\\\n",
    "\t\tE_b(t)\n",
    "\t\\end{bmatrix}\n",
    "\\end{align*}"
   ]
  },
  {
   "cell_type": "code",
   "execution_count": 9,
   "metadata": {
    "collapsed": true
   },
   "outputs": [],
   "source": [
    "def ode_diagonal_matrix(number_ground_states, number_excited_states):\n",
    "    #Define the Matrix on the RHS of the above equation\n",
    "    ODE_DIAGONAL_MATRIX = np.zeros((number_ground_states + number_excited_states, number_ground_states + number_excited_states), dtype=np.complex)\n",
    "    #set the diagonals\n",
    "    for ground_i in range(number_ground_states):\n",
    "        ODE_DIAGONAL_MATRIX[ground_i, ground_i] = -1.0j * (energy_g + energy_gamma * (ground_i + .5)) / hbar\n",
    "\n",
    "    for excited_i in range(number_excited_states):\n",
    "        excited_index = excited_i + number_ground_states #the offset since the excited states comes later\n",
    "        ODE_DIAGONAL_MATRIX[excited_index, excited_index] = -1.0j * (energy_e + energy_epsilon * (excited_i + .5)) / hbar\n",
    "    \n",
    "    return ODE_DIAGONAL_MATRIX\n",
    "\n",
    "#now for the off-diagonals\n",
    "def mu_matrix(c, number_ground_states, number_excited_states):\n",
    "    MU_MATRIX = np.zeros((number_ground_states, number_excited_states), dtype = np.complex)\n",
    "    for ground_a in range(number_ground_states):\n",
    "        for excited_b in range(number_excited_states):\n",
    "            new_mu_entry = overlap_function(ground_a, excited_b)\n",
    "            if ground_a >0:\n",
    "                new_mu_entry += c * math.sqrt(ground_a) * overlap_function(ground_a - 1, excited_b)\n",
    "            \n",
    "            new_mu_entry += c * math.sqrt(ground_a+1) * overlap_function(ground_a + 1, excited_b)\n",
    "                \n",
    "            MU_MATRIX[ground_a, excited_b] = new_mu_entry\n",
    "    return MU_MATRIX\n",
    "\n",
    "def ode_off_diagonal_matrix(c_value, number_ground_states, number_excited_states):\n",
    "    output  = np.zeros((number_ground_states + number_excited_states, number_ground_states + number_excited_states), dtype=np.complex)\n",
    "    MU_MATRIX = mu_matrix(c_value, number_ground_states, number_excited_states)\n",
    "    output[0:number_ground_states, number_ground_states:] = -1.0j * mu_0 * MU_MATRIX  / hbar\n",
    "    output[number_ground_states:, 0:number_ground_states] = -1.0j * mu_0 * MU_MATRIX.T  / hbar\n",
    "    return output\n",
    "\n",
    "def IR_transition_dipoles(number_ground_states, number_excited_states):\n",
    "    \"outputs matrices to calculate ground and excited state IR emission spectra.  Can be combined for total\"\n",
    "    output_g = np.zeros((number_ground_states + number_excited_states, number_ground_states + number_excited_states), dtype=np.complex)\n",
    "    output_e = np.zeros((number_ground_states + number_excited_states, number_ground_states + number_excited_states), dtype=np.complex)\n",
    "    \n",
    "    for ground_a in range(number_ground_states):\n",
    "        try:\n",
    "            output_g[ground_a, ground_a + 1] = math.sqrt(ground_a + 1)\n",
    "            output_g[ground_a + 1, ground_a] = math.sqrt(ground_a + 1)\n",
    "        except:\n",
    "            pass\n",
    "        \n",
    "        try:\n",
    "            output_g[ground_a, ground_a - 1] = math.sqrt(ground_a)\n",
    "            output_g[ground_a - 1, ground_a] = math.sqrt(ground_a)\n",
    "        except:\n",
    "            pass\n",
    "    \n",
    "    for excited_a in range(number_excited_states):\n",
    "        matrix_index_e = number_ground_states + excited_a -1 #because of how 'number_ground_states' is defined\n",
    "        try:\n",
    "            output_e[matrix_index_e, matrix_index_e + 1] = math.sqrt(excited_a + 1)\n",
    "            output_e[matrix_index_e + 1, matrix_index_e] = math.sqrt(excited_a + 1)\n",
    "        except:\n",
    "            pass\n",
    "        \n",
    "        try:\n",
    "            output_e[matrix_index_e, matrix_index_e - 1] = math.sqrt(excited_a)\n",
    "            output_e[matrix_index_e - 1, matrix_index_e] = math.sqrt(excited_a)\n",
    "        except:\n",
    "            pass\n",
    "    \n",
    "    return output_g, output_e"
   ]
  },
  {
   "cell_type": "markdown",
   "metadata": {},
   "source": [
    "\\begin{align*}\n",
    "\t\\mu(x) &= \\mu_0 \\left(1 + \\lambda x \\right) \\\\\n",
    "\t&= \\mu_0 \\left(1 + c\\left(a + a^{\\dagger} \\right) \\right) \\\\\n",
    "\t\\mu_{a}^{b} &= \\mu_0\\left(O_{a}^{b}  + c\\left(\\sqrt{a}O_{a-1}^{b} + \\sqrt{a+1}O_{a+1}^{b}\\right) \\right)\n",
    "\\end{align*}"
   ]
  },
  {
   "cell_type": "code",
   "execution_count": null,
   "metadata": {
    "collapsed": true
   },
   "outputs": [],
   "source": []
  },
  {
   "cell_type": "code",
   "execution_count": 10,
   "metadata": {
    "collapsed": false
   },
   "outputs": [],
   "source": [
    "class VibrationalStateOverFlowException(Exception):\n",
    "    def __init__(self):\n",
    "        pass"
   ]
  },
  {
   "cell_type": "code",
   "execution_count": null,
   "metadata": {
    "collapsed": false
   },
   "outputs": [],
   "source": []
  },
  {
   "cell_type": "code",
   "execution_count": 11,
   "metadata": {
    "collapsed": false
   },
   "outputs": [],
   "source": [
    "def propagate_amplitude_to_end_of_perturbation(c_value, ratio_01_00, kappa=1, starting_ground_states=STARTING_GROUND_STATES, starting_excited_states=STARTING_EXCITED_STATES):\n",
    "    center_time, stdev, time_function = time_function_handle_from_tau_and_kappa(ratio_01_00, kappa)\n",
    "    ending_time = center_time + 8.0 * stdev\n",
    "    \n",
    "    number_ground_states = starting_ground_states\n",
    "    number_excited_states = starting_excited_states\n",
    "    \n",
    "    while number_excited_states + number_ground_states < MAX_VIBRATIONAL_STATES:\n",
    "        \n",
    "        #define time scales\n",
    "        max_energy = energy_e + energy_epsilon * (.5 + number_excited_states) + kappa * energy_gamma * mu_0\n",
    "        dt = 1.0 / (time_scale_set *  max_energy)\n",
    "        \n",
    "        ODE_DIAGONAL = ode_diagonal_matrix(number_ground_states, number_excited_states) \n",
    "        ODE_OFF_DIAGONAL = ode_off_diagonal_matrix(c_value, number_ground_states, number_excited_states)\n",
    "        \n",
    "        def ODE_integrable_function(time, coefficient_vector):\n",
    "            ODE_TOTAL_MATRIX = ODE_OFF_DIAGONAL * time_function(time) + ODE_DIAGONAL \n",
    "            return np.dot(ODE_TOTAL_MATRIX, coefficient_vector)\n",
    "        \n",
    "        #define the starting wavefuntion\n",
    "        initial_conditions = blank_wavefunction(number_ground_states, number_excited_states)\n",
    "        initial_conditions[0] = 1\n",
    "        \n",
    "        #create ode solver\n",
    "        current_time = 0.0\n",
    "        ode_solver = scipy.integrate.complex_ode(ODE_integrable_function)\n",
    "        ode_solver.set_initial_value(initial_conditions, current_time)\n",
    "        \n",
    "        #Run it\n",
    "        results = []\n",
    "        try:  #this block catches an overflow into the highest ground or excited vibrational state\n",
    "            while current_time < ending_time:\n",
    "#                 print(current_time, ZERO_TOLERANCE)\n",
    "                #update time, perform solution\n",
    "                current_time = ode_solver.t+dt\n",
    "                new_result = ode_solver.integrate(current_time)\n",
    "                results.append(new_result)\n",
    "                #make sure solver was successful\n",
    "                if not ode_solver.successful():\n",
    "                    raise Exception(\"ODE Solve Failed!\")\n",
    "                #make sure that there hasn't been substantial leakage to the highest excited states\n",
    "                re_start_calculation = False\n",
    "                if abs(new_result[number_ground_states - 1])**2 >= ZERO_TOLERANCE:\n",
    "                    number_ground_states +=1\n",
    "#                     print(\"Increasing Number of Ground vibrational states to %i \" % number_ground_states)\n",
    "                    re_start_calculation = True\n",
    "                if abs(new_result[-1])**2 >= ZERO_TOLERANCE:\n",
    "                    number_excited_states +=1\n",
    "#                     print(\"Increasing Number of excited vibrational states to %i \" % number_excited_states)\n",
    "                    re_start_calculation = True\n",
    "                if re_start_calculation:\n",
    "                    raise VibrationalStateOverFlowException()\n",
    "        except VibrationalStateOverFlowException:\n",
    "            #Move on and re-start the calculation\n",
    "            continue\n",
    "\n",
    "        #Finish calculating\n",
    "        results = np.array(results)\n",
    "        return results, number_ground_states, number_excited_states\n",
    "    raise Exception(\"NEEDED TOO MANY VIBRATIONAL STATES!  RE-RUN WITH DIFFERENT PARAMETERS!\")"
   ]
  },
  {
   "cell_type": "code",
   "execution_count": 12,
   "metadata": {
    "collapsed": false
   },
   "outputs": [],
   "source": [
    "def get_average_quantum_number_time_series(c_value, ratio_01_00, kappa=1, starting_ground_states=STARTING_GROUND_STATES, starting_excited_states=STARTING_EXCITED_STATES):\n",
    "    results, number_ground_states, number_excited_states = propagate_amplitude_to_end_of_perturbation(c_value, ratio_01_00, kappa, starting_ground_states, starting_excited_states)\n",
    "    probabilities = np.abs(results)**2\n",
    "    #calculate the average_vibrational_quantum_number series\n",
    "    average_ground_quantum_number = probabilities[:,0:number_ground_states].dot(np.array(range(number_ground_states)) )\n",
    "    average_excited_quantum_number = probabilities[:,number_ground_states:].dot(np.array(range(number_excited_states)))\n",
    "    return average_ground_quantum_number, average_excited_quantum_number, results, number_ground_states, number_excited_states"
   ]
  },
  {
   "cell_type": "code",
   "execution_count": 13,
   "metadata": {
    "collapsed": false
   },
   "outputs": [],
   "source": [
    "def IR_emission_spectrum_after_excitation(c_value, ratio_01_00, kappa=1, starting_ground_states=STARTING_GROUND_STATES, starting_excited_states=STARTING_EXCITED_STATES):\n",
    "    center_time, stdev, time_function = time_function_handle_from_tau_and_kappa(ratio_01_00, kappa)\n",
    "    \n",
    "    perturbation_ending_time = center_time + 8.0 * stdev\n",
    "    simulation_ending_time = perturbation_ending_time + low_frequency_cycles * hbar/min_energy\n",
    "    \n",
    "    number_ground_states = starting_ground_states\n",
    "    number_excited_states = starting_excited_states\n",
    "    \n",
    "    while number_excited_states + number_ground_states < MAX_VIBRATIONAL_STATES:\n",
    "        \n",
    "        ir_transDipole_g, ir_transDipole_e = IR_transition_dipoles(number_ground_states, number_excited_states)\n",
    "        \n",
    "        time_emission_g = [0]\n",
    "        time_emission_e = [0]\n",
    "        \n",
    "        #define time scales\n",
    "        e = energy_e + energy_epsilon * (.5 + number_excited_states)\n",
    "        g = energy_g + energy_gamma* (.5 + number_ground_states)\n",
    "        plus = e + g\n",
    "        minus = e - g\n",
    "        J = kappa * energy_gamma * mu_0\n",
    "        max_split_energy = plus + math.sqrt(minus**2 + 4 * J**2)\n",
    "        max_energy = max_split_energy * .5\n",
    "        dt = 1.0 / (time_scale_set *  max_energy)\n",
    "        \n",
    "        time_values = np.arange(0, simulation_ending_time, dt)\n",
    "        \n",
    "        \n",
    "        ODE_DIAGONAL = ode_diagonal_matrix(number_ground_states, number_excited_states) \n",
    "        ODE_OFF_DIAGONAL = ode_off_diagonal_matrix(c_value, number_ground_states, number_excited_states)\n",
    "        \n",
    "        def ODE_integrable_function(time, coefficient_vector):\n",
    "            ODE_TOTAL_MATRIX = ODE_OFF_DIAGONAL * time_function(time) + ODE_DIAGONAL \n",
    "            return np.dot(ODE_TOTAL_MATRIX, coefficient_vector)\n",
    "        \n",
    "        def ODE_jacobean(time, coefficient_vector):\n",
    "            ODE_TOTAL_MATRIX = ODE_OFF_DIAGONAL * time_function(time) + ODE_DIAGONAL \n",
    "            return ODE_TOTAL_MATRIX\n",
    "        \n",
    "        #define the starting wavefuntion\n",
    "        initial_conditions = blank_wavefunction(number_ground_states, number_excited_states)\n",
    "        initial_conditions[0] = 1\n",
    "        \n",
    "        #create ode solver\n",
    "        current_time = 0.0\n",
    "        try:\n",
    "            del ode_solver\n",
    "        except:\n",
    "            pass\n",
    "#         ode_solver = scipy.integrate.complex_ode(ODE_integrable_function)\n",
    "        ode_solver = scipy.integrate.complex_ode(ODE_integrable_function, jac = ODE_jacobean)\n",
    "#         ode_solver.set_integrator(\"lsoda\")\n",
    "        ode_solver.set_integrator(\"vode\", with_jacobian=True)\n",
    "        \n",
    "        ode_solver.set_initial_value(initial_conditions, current_time)\n",
    "        \n",
    "        #Run it\n",
    "        results = []\n",
    "        try:  #this block catches an overflow into the highest ground or excited vibrational state\n",
    "            while current_time < simulation_ending_time:\n",
    "#                 print(current_time, ZERO_TOLERANCE)\n",
    "                #update time, perform solution\n",
    "                current_time = ode_solver.t+dt\n",
    "                new_result = ode_solver.integrate(current_time)\n",
    "                results.append(new_result)\n",
    "                #make sure solver was successful\n",
    "                if not ode_solver.successful():\n",
    "                    raise Exception(\"ODE Solve Failed!\")\n",
    "                \n",
    "                if current_time < perturbation_ending_time:\n",
    "                    #make sure that there hasn't been substantial leakage to the highest excited states\n",
    "                    re_start_calculation = False\n",
    "                    if abs(new_result[number_ground_states - 1])**2 >= ZERO_TOLERANCE:\n",
    "                        number_ground_states +=1\n",
    "#                         print(\"Increasing Number of Ground vibrational states to %i \" % number_ground_states)\n",
    "                        re_start_calculation = True\n",
    "                    if abs(new_result[-1])**2 >= ZERO_TOLERANCE:\n",
    "                        number_excited_states +=1\n",
    "#                         print(\"Increasing Number of excited vibrational states to %i \" % number_excited_states)\n",
    "                        re_start_calculation = True\n",
    "                    if re_start_calculation:\n",
    "                        raise VibrationalStateOverFlowException()\n",
    "                #calculate IR emission\n",
    "                time_emission_g.append(np.conj(new_result).T.dot(ir_transDipole_g.dot(new_result)))\n",
    "                time_emission_e.append(np.conj(new_result).T.dot(ir_transDipole_e.dot(new_result)))\n",
    "                #on to next time value...\n",
    "                \n",
    "        except VibrationalStateOverFlowException:\n",
    "            #Move on and re-start the calculation\n",
    "            continue\n",
    "\n",
    "        #Finish calculating\n",
    "        results = np.array(results)\n",
    "        n_t = len(time_emission_e)\n",
    "         \n",
    "        time_emission_g = np.array(time_emission_g)\n",
    "        time_emission_e = np.array(time_emission_e)\n",
    "        \n",
    "        filter_x = np.array(range(n_t))\n",
    "        filter_center = n_t / 2.0\n",
    "        filter_sigma = n_t / 10.0\n",
    "        filter_values = np.exp(-(filter_x - filter_center)**2 / (2 * filter_sigma**2))\n",
    "        \n",
    "        frequencies = np.fft.fftshift(np.fft.fftfreq(time_emission_g.shape[0], d= dt))\n",
    "        frequency_emission_g = dt * np.fft.fftshift(np.fft.fft(time_emission_g * filter_values))\n",
    "        frequency_emission_e = dt * np.fft.fftshift(np.fft.fft(time_emission_e * filter_values))\n",
    "        \n",
    "        return results, frequencies, frequency_emission_g, frequency_emission_e, number_ground_states, number_excited_states\n",
    "    raise Exception(\"NEEDED TOO MANY VIBRATIONAL STATES!  RE-RUN WITH DIFFERENT PARAMETERS!\")"
   ]
  },
  {
   "cell_type": "code",
   "execution_count": null,
   "metadata": {
    "collapsed": false
   },
   "outputs": [
    {
     "name": "stdout",
     "output_type": "stream",
     "text": [
      "780 / 1000 Calculating kappa=1.351344, c=1.000000, tau=0.016212 at n_g = 17 and n_e=14..."
     ]
    }
   ],
   "source": [
    "c_values = np.logspace(-4, np.log10(1), 5)\n",
    "tau_values = np.logspace(-4, np.log10(.95), 10)\n",
    "kappa_values = np.logspace(-2, np.log10(5), 20)\n",
    "\n",
    "number_calcs = c_values.shape[0] * tau_values.shape[0] * kappa_values.shape[0]\n",
    "\n",
    "heating_results_ground = np.zeros((kappa_values.shape[0],  tau_values.shape[0], c_values.shape[0]))\n",
    "ir_amplitudes = np.zeros(heating_results_ground.shape)\n",
    "heating_results_excited = np.zeros(heating_results_ground.shape)\n",
    "\n",
    "# Keep track of the IR Spectrum\n",
    "\n",
    "n_g = STARTING_GROUND_STATES\n",
    "n_e = STARTING_EXCITED_STATES\n",
    "\n",
    "counter = 1\n",
    "# we will use the value of c as a bellweather for how many starting states to work with.\n",
    "c_to_ng = {}\n",
    "c_to_ne = {}\n",
    "for i_kappa, kappa in enumerate(kappa_values):\n",
    "    # as we increase in both tau and \n",
    "    for i_tau, tau in enumerate(tau_values):\n",
    "        \n",
    "        for i_c, c in enumerate(c_values): \n",
    "            try:\n",
    "                n_g = c_to_ng[c]\n",
    "                n_e = c_to_ne[c]\n",
    "            except:\n",
    "                n_g = STARTING_GROUND_STATES\n",
    "                n_e = STARTING_EXCITED_STATES\n",
    "                c_to_ng[c] = n_g\n",
    "                c_to_ne[c] = n_e\n",
    "            \n",
    "            \n",
    "            \n",
    "            sys.stdout.flush()\n",
    "            sys.stdout.write(\"\\r%i / %i Calculating kappa=%f, c=%f, tau=%f at n_g = %i and n_e=%i...\" %(counter, number_calcs, kappa, c, tau, n_g, n_e))\n",
    "#             print(\"\\r%i / %i Calculating kappa=%f, c=%f, tau=%f at n_g = %i and n_e=%i...\" %(counter, number_calcs, kappa, c, tau, n_g, n_e))\n",
    "#             n_bar_g, n_bar_e, results, num_g, num_e = get_average_quantum_number_time_series(c,\n",
    "#                                                                                          tau, \n",
    "#                                                                                          kappa,\n",
    "#                                                                                          starting_ground_states = n_g, \n",
    "#                                                                                          starting_excited_states = n_e) \n",
    "            \n",
    "#             heating_results_ground[i_kappa, i_tau, i_c] = n_bar_g[-1]\n",
    "#             heating_results_excited[i_kappa, i_tau, i_c] = n_bar_e[-1]\n",
    "            \n",
    "            \n",
    "            _, frequencies, emission_g, emission_e, num_g, num_e = IR_emission_spectrum_after_excitation(c,\n",
    "                                                                                         tau, \n",
    "                                                                                         kappa,\n",
    "                                                                                         starting_ground_states = n_g, \n",
    "                                                                                         starting_excited_states = n_e)\n",
    "            if num_g > c_to_ng[c]:\n",
    "                c_to_ng[c] = num_g\n",
    "            if num_e > c_to_ne[c]:\n",
    "                c_to_ne[c] = num_e\n",
    "            vibrational_frequency_index = np.argmin(np.abs(energy_gamma - frequencies))\n",
    "            ir_power = np.abs(emission_g[vibrational_frequency_index])**2\n",
    "            ir_amplitudes[i_kappa, i_tau, i_c] = ir_power\n",
    "            counter +=1\n",
    "#             plt.figure()\n",
    "#             plt.title(r\"$\\kappa{}, \\tau={}, c={}\".format(kappa, tau, c))\n",
    "#             plt.plot(frequencies, emission_g)\n",
    "#             plt.xlim(0, 2)\n"
   ]
  },
  {
   "cell_type": "code",
   "execution_count": null,
   "metadata": {
    "collapsed": false
   },
   "outputs": [],
   "source": []
  },
  {
   "cell_type": "code",
   "execution_count": null,
   "metadata": {
    "collapsed": false
   },
   "outputs": [],
   "source": [
    "# decreased dt, does that keep these parameters from failing? last one is 600 / 800 Calculating kappa=8.858668, c=0.750000, tau=0.850000\n",
    "for i_kappa, kappa in enumerate(kappa_values):\n",
    "    for i_tau, tau in enumerate(tau_values):\n",
    "        ir_power = ir_amplitudes[i_kappa, i_tau, :]\n",
    "        plt.loglog(c_values, ir_power, \"*-\")\n",
    "plt.xlabel(r\"$c$\")\n",
    "plt.figure()\n",
    "for i_kappa, kappa in enumerate(kappa_values):\n",
    "    for i_c, c in enumerate(c_values):\n",
    "        ir_power = ir_amplitudes[i_kappa, :, i_c]\n",
    "        plt.loglog(tau_values, ir_power, \"*-\")\n",
    "plt.xlabel(r\"$\\tau$\")\n",
    "plt.figure()\n",
    "for i_tau, tau in enumerate(tau_values):\n",
    "    for i_c, c in enumerate(c_values):\n",
    "#     for i_c in [0,-1]:\n",
    "        ir_power = ir_amplitudes[:, i_tau, i_c]\n",
    "#         plt.loglog(kappa_values, ir_power, [\"blue\", \"red\"][i_c])\n",
    "        plt.loglog(kappa_values, ir_power)\n",
    "plt.xlabel(r\"$\\kappa$\")\n",
    "# plt.xlim(-.1, 1.1)\n",
    "# plt.ylim(-10, 500)"
   ]
  },
  {
   "cell_type": "code",
   "execution_count": null,
   "metadata": {
    "collapsed": true
   },
   "outputs": [],
   "source": [
    "c_log = np.log10(c_values)\n",
    "tau_log = np.log10(tau_values)\n",
    "kappa_log = np.log10(kappa_values)\n",
    "log_ir_amplitudes = np.log(ir_amplitudes)\n",
    "num_levels = 100\n",
    "contours = np.linspace(np.min(log_ir_amplitudes), np.max(log_ir_amplitudes), num_levels)"
   ]
  },
  {
   "cell_type": "code",
   "execution_count": null,
   "metadata": {
    "collapsed": false
   },
   "outputs": [],
   "source": [
    "\n",
    "# for i_kappa, kappa in enumerate(kappa_values):\n",
    "#     ir_power = log_ir_amplitudes[i_kappa, :, :]\n",
    "#     plt.figure()\n",
    "#     plt.contourf(c_log, tau_log, ir_power, contours)\n",
    "#     plt.title(r\"$\\kappa = {}$\".format(kappa))\n",
    "#     plt.ylabel(r\"$c$\")\n",
    "#     plt.xlabel(r\"$\\tau$\")\n",
    "#     plt.colorbar()\n",
    "\n",
    "\n",
    "\n",
    "\n",
    "for i_tau, tau in enumerate(tau_values):\n",
    "    ir_power = log_ir_amplitudes[:, i_tau, :]\n",
    "    plt.figure()\n",
    "    plt.contourf(c_log, kappa_log, ir_power, contours)\n",
    "    plt.title(r\"$\\tau = {}$\".format(tau))\n",
    "    plt.ylabel(r\"$\\kappa$\")\n",
    "    plt.xlabel(r\"$c$\")\n",
    "    plt.colorbar()\n",
    "    \n"
   ]
  },
  {
   "cell_type": "code",
   "execution_count": null,
   "metadata": {
    "collapsed": false
   },
   "outputs": [],
   "source": [
    "for i_c, c in enumerate(c_values):\n",
    "    ir_power = log_ir_amplitudes[:, :, i_c]\n",
    "    plt.figure()\n",
    "    plt.contourf(tau_log, kappa_log, ir_power, contours)\n",
    "    plt.title(r\"$c = {}$\".format(c))\n",
    "    plt.ylabel(r\"$\\kappa$\")\n",
    "    plt.xlabel(r\"$\\tau$\")\n",
    "    plt.colorbar()"
   ]
  },
  {
   "cell_type": "code",
   "execution_count": null,
   "metadata": {
    "collapsed": false
   },
   "outputs": [],
   "source": []
  },
  {
   "cell_type": "code",
   "execution_count": null,
   "metadata": {
    "collapsed": false,
    "scrolled": true
   },
   "outputs": [],
   "source": []
  },
  {
   "cell_type": "code",
   "execution_count": null,
   "metadata": {
    "collapsed": false
   },
   "outputs": [],
   "source": [
    "\n"
   ]
  },
  {
   "cell_type": "code",
   "execution_count": null,
   "metadata": {
    "collapsed": false
   },
   "outputs": [],
   "source": []
  },
  {
   "cell_type": "code",
   "execution_count": null,
   "metadata": {
    "collapsed": false
   },
   "outputs": [],
   "source": []
  },
  {
   "cell_type": "code",
   "execution_count": null,
   "metadata": {
    "collapsed": false
   },
   "outputs": [],
   "source": []
  },
  {
   "cell_type": "code",
   "execution_count": null,
   "metadata": {
    "collapsed": false
   },
   "outputs": [],
   "source": []
  },
  {
   "cell_type": "code",
   "execution_count": null,
   "metadata": {
    "collapsed": false
   },
   "outputs": [],
   "source": []
  },
  {
   "cell_type": "code",
   "execution_count": null,
   "metadata": {
    "collapsed": true
   },
   "outputs": [],
   "source": []
  },
  {
   "cell_type": "code",
   "execution_count": null,
   "metadata": {
    "collapsed": false
   },
   "outputs": [],
   "source": []
  },
  {
   "cell_type": "code",
   "execution_count": null,
   "metadata": {
    "collapsed": true
   },
   "outputs": [],
   "source": [
    "np.linspace()"
   ]
  }
 ],
 "metadata": {
  "anaconda-cloud": {},
  "kernelspec": {
   "display_name": "Python [default]",
   "language": "python",
   "name": "python2"
  },
  "language_info": {
   "codemirror_mode": {
    "name": "ipython",
    "version": 2
   },
   "file_extension": ".py",
   "mimetype": "text/x-python",
   "name": "python",
   "nbconvert_exporter": "python",
   "pygments_lexer": "ipython2",
   "version": "2.7.11"
  }
 },
 "nbformat": 4,
 "nbformat_minor": 0
}
